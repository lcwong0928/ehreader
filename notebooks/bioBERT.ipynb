{
 "cells": [
  {
   "cell_type": "code",
   "execution_count": 1,
   "id": "08d3ca2b",
   "metadata": {},
   "outputs": [
    {
     "data": {
      "text/plain": [
       "device(type='cuda')"
      ]
     },
     "execution_count": 1,
     "metadata": {},
     "output_type": "execute_result"
    }
   ],
   "source": [
    "from transformers import AutoModel\n",
    "from transformers import BertTokenizer, BertForMaskedLM\n",
    "from torch.nn import functional as F\n",
    "import torch\n",
    "from transformers import AutoModel, AutoTokenizer, AutoModelForQuestionAnswering\n",
    "from transformers import BertTokenizer\n",
    "import torch\n",
    "import torch.nn as nn\n",
    "import torch.nn.functional as F\n",
    "\n",
    "import pandas as pd\n",
    "import json\n",
    "import numpy as np\n",
    "from collections import Counter\n",
    "import pickle\n",
    "from tqdm import tqdm\n",
    "import seaborn as sns\n",
    "\n",
    "import torch\n",
    "from torch.utils.data import DataLoader\n",
    "from transformers import AdamW\n",
    "from transformers import BertTokenizer, TFBertForSequenceClassification, BertConfig ,DistilBertTokenizerFast, DistilBertForQuestionAnswering\n",
    "from transformers import AutoModel\n",
    "\n",
    "from sklearn.model_selection import train_test_split\n",
    "from sklearn.utils import resample\n",
    "\n",
    "device = torch.device('cuda') if torch.cuda.is_available() else torch.device('cpu')\n",
    "device"
   ]
  },
  {
   "cell_type": "markdown",
   "id": "be61d268",
   "metadata": {},
   "source": [
    "# More Data Processing"
   ]
  },
  {
   "cell_type": "code",
   "execution_count": 2,
   "id": "34b4ebb7",
   "metadata": {},
   "outputs": [],
   "source": [
    "samples = pd.read_parquet('processed_data/relations_qa.parquet')\n",
    "pos_samples = samples[samples.answerability == 1]\n",
    "neg_samples = samples[samples.answerability == 0]"
   ]
  },
  {
   "cell_type": "code",
   "execution_count": 3,
   "id": "22bdfad9",
   "metadata": {},
   "outputs": [
    {
     "data": {
      "text/html": [
       "<div>\n",
       "<style scoped>\n",
       "    .dataframe tbody tr th:only-of-type {\n",
       "        vertical-align: middle;\n",
       "    }\n",
       "\n",
       "    .dataframe tbody tr th {\n",
       "        vertical-align: top;\n",
       "    }\n",
       "\n",
       "    .dataframe thead th {\n",
       "        text-align: right;\n",
       "    }\n",
       "</style>\n",
       "<table border=\"1\" class=\"dataframe\">\n",
       "  <thead>\n",
       "    <tr style=\"text-align: right;\">\n",
       "      <th></th>\n",
       "      <th>note_id</th>\n",
       "      <th>note_question_id</th>\n",
       "      <th>sub_context</th>\n",
       "      <th>question</th>\n",
       "      <th>answerability</th>\n",
       "      <th>token_start</th>\n",
       "      <th>token_end</th>\n",
       "      <th>char_start</th>\n",
       "      <th>char_end</th>\n",
       "    </tr>\n",
       "  </thead>\n",
       "  <tbody>\n",
       "    <tr>\n",
       "      <th>4</th>\n",
       "      <td>0329</td>\n",
       "      <td>0</td>\n",
       "      <td>[2014-01-20, 10:46, PM, BLOOD, Glucose, -, 114...</td>\n",
       "      <td>[Has, the, patient, had, any, rll, pneumonia, ...</td>\n",
       "      <td>1</td>\n",
       "      <td>51</td>\n",
       "      <td>80</td>\n",
       "      <td>262</td>\n",
       "      <td>408</td>\n",
       "    </tr>\n",
       "    <tr>\n",
       "      <th>7</th>\n",
       "      <td>0329</td>\n",
       "      <td>1</td>\n",
       "      <td>[However, ,, when, asked, if, she, thinks, he,...</td>\n",
       "      <td>[Has, the, patient, had, any, mild, background...</td>\n",
       "      <td>1</td>\n",
       "      <td>71</td>\n",
       "      <td>79</td>\n",
       "      <td>377</td>\n",
       "      <td>426</td>\n",
       "    </tr>\n",
       "    <tr>\n",
       "      <th>17</th>\n",
       "      <td>0329</td>\n",
       "      <td>2</td>\n",
       "      <td>[His, family, was, notified, that, he, was, do...</td>\n",
       "      <td>[Has, the, patient, had, any, early, sepsis, a...</td>\n",
       "      <td>1</td>\n",
       "      <td>65</td>\n",
       "      <td>75</td>\n",
       "      <td>334</td>\n",
       "      <td>386</td>\n",
       "    </tr>\n",
       "    <tr>\n",
       "      <th>20</th>\n",
       "      <td>0329</td>\n",
       "      <td>3</td>\n",
       "      <td>[Physical, Exam, :, Vitals, :, T, 102.8, HR, 1...</td>\n",
       "      <td>[Has, the, patient, had, any, accessory, muscl...</td>\n",
       "      <td>1</td>\n",
       "      <td>18</td>\n",
       "      <td>42</td>\n",
       "      <td>79</td>\n",
       "      <td>212</td>\n",
       "    </tr>\n",
       "    <tr>\n",
       "      <th>25</th>\n",
       "      <td>0329</td>\n",
       "      <td>4</td>\n",
       "      <td>[However, ,, when, asked, if, she, thinks, he,...</td>\n",
       "      <td>[When, was, the, patient, evaluated, for, chf,...</td>\n",
       "      <td>1</td>\n",
       "      <td>91</td>\n",
       "      <td>96</td>\n",
       "      <td>465</td>\n",
       "      <td>485</td>\n",
       "    </tr>\n",
       "  </tbody>\n",
       "</table>\n",
       "</div>"
      ],
      "text/plain": [
       "   note_id  note_question_id  \\\n",
       "4     0329                 0   \n",
       "7     0329                 1   \n",
       "17    0329                 2   \n",
       "20    0329                 3   \n",
       "25    0329                 4   \n",
       "\n",
       "                                          sub_context  \\\n",
       "4   [2014-01-20, 10:46, PM, BLOOD, Glucose, -, 114...   \n",
       "7   [However, ,, when, asked, if, she, thinks, he,...   \n",
       "17  [His, family, was, notified, that, he, was, do...   \n",
       "20  [Physical, Exam, :, Vitals, :, T, 102.8, HR, 1...   \n",
       "25  [However, ,, when, asked, if, she, thinks, he,...   \n",
       "\n",
       "                                             question  answerability  \\\n",
       "4   [Has, the, patient, had, any, rll, pneumonia, ...              1   \n",
       "7   [Has, the, patient, had, any, mild, background...              1   \n",
       "17  [Has, the, patient, had, any, early, sepsis, a...              1   \n",
       "20  [Has, the, patient, had, any, accessory, muscl...              1   \n",
       "25  [When, was, the, patient, evaluated, for, chf,...              1   \n",
       "\n",
       "    token_start  token_end  char_start  char_end  \n",
       "4            51         80         262       408  \n",
       "7            71         79         377       426  \n",
       "17           65         75         334       386  \n",
       "20           18         42          79       212  \n",
       "25           91         96         465       485  "
      ]
     },
     "execution_count": 3,
     "metadata": {},
     "output_type": "execute_result"
    }
   ],
   "source": [
    "pos_samples.head()"
   ]
  },
  {
   "cell_type": "code",
   "execution_count": 4,
   "id": "04753345",
   "metadata": {},
   "outputs": [
    {
     "name": "stdout",
     "output_type": "stream",
     "text": [
      "# pos 66584\n",
      "# neg 467926\n",
      "# neg 66584\n"
     ]
    }
   ],
   "source": [
    "# pos_samples = resample(pos_samples, replace=False, n_samples=100, random_state=0) \n",
    "print('# pos', len(pos_samples))\n",
    "print('# neg', len(neg_samples))\n",
    "neg_samples = resample(neg_samples, replace=False, n_samples=len(pos_samples), random_state=0) \n",
    "print('# neg', len(neg_samples))"
   ]
  },
  {
   "cell_type": "code",
   "execution_count": 5,
   "id": "cf946e73",
   "metadata": {},
   "outputs": [
    {
     "name": "stderr",
     "output_type": "stream",
     "text": [
      "C:\\Users\\lcwon\\Anaconda3\\envs\\gpu\\lib\\site-packages\\ipykernel_launcher.py:4: SettingWithCopyWarning: \n",
      "A value is trying to be set on a copy of a slice from a DataFrame.\n",
      "Try using .loc[row_indexer,col_indexer] = value instead\n",
      "\n",
      "See the caveats in the documentation: https://pandas.pydata.org/pandas-docs/stable/user_guide/indexing.html#returning-a-view-versus-a-copy\n",
      "  after removing the cwd from sys.path.\n"
     ]
    },
    {
     "name": "stdout",
     "output_type": "stream",
     "text": [
      "(79900, 2) (79900, 5)\n",
      "(26634, 2) (26634, 5)\n",
      "(26634, 2) (26634, 5)\n"
     ]
    },
    {
     "name": "stderr",
     "output_type": "stream",
     "text": [
      "C:\\Users\\lcwon\\Anaconda3\\envs\\gpu\\lib\\site-packages\\ipykernel_launcher.py:5: SettingWithCopyWarning: \n",
      "A value is trying to be set on a copy of a slice from a DataFrame.\n",
      "Try using .loc[row_indexer,col_indexer] = value instead\n",
      "\n",
      "See the caveats in the documentation: https://pandas.pydata.org/pandas-docs/stable/user_guide/indexing.html#returning-a-view-versus-a-copy\n",
      "  \"\"\"\n"
     ]
    }
   ],
   "source": [
    "samples = pd.concat([pos_samples, neg_samples], axis=0)\n",
    "\n",
    "X = samples[['sub_context', 'question']]\n",
    "X['question'] = X['question'].apply(lambda x: ' '.join(x))\n",
    "X['sub_context'] = X['sub_context'].apply(lambda x: ' '.join(x))\n",
    "y = samples[['answerability', 'token_start', 'token_end', 'char_start', 'char_end']]\n",
    "\n",
    "\n",
    "X_train, X_test, y_train, y_test = train_test_split(X, y, test_size=0.2, \n",
    "                                                    random_state=0, \n",
    "                                                    stratify=np.asarray(y['answerability']))\n",
    "\n",
    "X_train, X_val, y_train, y_val = train_test_split(X_train, y_train, \n",
    "                                                  test_size=0.25, \n",
    "                                                  random_state=0,\n",
    "                                                  stratify=np.asarray(y_train['answerability']))\n",
    "    \n",
    "print(X_train.shape, y_train.shape)\n",
    "print(X_val.shape, y_val.shape)\n",
    "print(X_test.shape, y_test.shape)"
   ]
  },
  {
   "cell_type": "markdown",
   "id": "3729baa8",
   "metadata": {},
   "source": [
    "# Tokenizer + Embedding"
   ]
  },
  {
   "cell_type": "code",
   "execution_count": 6,
   "id": "63ec6112",
   "metadata": {},
   "outputs": [],
   "source": [
    "tokenizer_bio = AutoTokenizer.from_pretrained(\"dmis-lab/biobert-v1.1\")"
   ]
  },
  {
   "cell_type": "code",
   "execution_count": 7,
   "id": "0edc173f",
   "metadata": {},
   "outputs": [],
   "source": [
    "def tokenize_qa(X, y, filename=None):\n",
    "    encodings = tokenizer_bio.batch_encode_plus(\n",
    "      list(X.values), \n",
    "      return_tensors='pt',\n",
    "      add_special_tokens = True,\n",
    "      return_token_type_ids=True,\n",
    "      padding='max_length',\n",
    "      max_length=512,\n",
    "      return_attention_mask = True,\n",
    "      truncation='longest_first', \n",
    "      return_offsets_mapping=False\n",
    "    )\n",
    "    \n",
    "    embed_token_start = []\n",
    "    embed_token_end = []\n",
    "    \n",
    "    for i in range(len(X)):\n",
    "   \n",
    "        # Start position, find closest left direction\n",
    "        start = encodings.char_to_token(i, y.char_start.iloc[i])\n",
    "        j=0\n",
    "        while start is None and j < 1000:\n",
    "            j+=1\n",
    "            start = encodings.char_to_token(i, max(0, y.char_start.iloc[i]-j))\n",
    "        j=0\n",
    "        while start is None and j < 1000:\n",
    "            j+=1\n",
    "            start = encodings.char_to_token(i, max(0, y.char_start.iloc[i]+j))\n",
    "        # 0 index\n",
    "        embed_token_start.append(start-1)\n",
    "        \n",
    "        \n",
    "        # End position, find closest right direction then left direction\n",
    "        end = encodings.char_to_token(i, max(0, y.char_end.iloc[i]-1))\n",
    "        j=0\n",
    "        while end is None and j < 1000:\n",
    "            j+=1\n",
    "            end = encodings.char_to_token(i, max(0, y.char_end.iloc[i]+j-1))\n",
    "        j=0\n",
    "        while end is None and j < 1000:\n",
    "            j+=1\n",
    "            end = encodings.char_to_token(i, max(0, y.char_end.iloc[i]-j-1))\n",
    "        # 0 index\n",
    "        embed_token_end.append(end-1)\n",
    "\n",
    "\n",
    "    encodings['start_positions'] = torch.tensor(embed_token_start)\n",
    "    encodings['end_positions'] = torch.tensor(embed_token_end)\n",
    "    \n",
    "    if filename:\n",
    "        with open(f'processed_data/{filename}.pickle', 'wb') as f:\n",
    "            pickle.dump(encodings, f)\n",
    "    return encodings"
   ]
  },
  {
   "cell_type": "code",
   "execution_count": 8,
   "id": "1359376f",
   "metadata": {},
   "outputs": [],
   "source": [
    "train_encodings = tokenize_qa(X_train, y_train, filename='relations_qa_bio_train')\n",
    "val_encodings = tokenize_qa(X_val, y_val, filename='relations_qa_bio_val')\n",
    "test_encodings = tokenize_qa(X_test, y_test, filename='relations_qa_bio_test')"
   ]
  },
  {
   "cell_type": "code",
   "execution_count": 12,
   "id": "94374a09",
   "metadata": {},
   "outputs": [
    {
     "data": {
      "text/plain": [
       "0"
      ]
     },
     "execution_count": 12,
     "metadata": {},
     "output_type": "execute_result"
    }
   ],
   "source": [
    "pd.Series(train_encodings['end_positions']).min()"
   ]
  },
  {
   "cell_type": "markdown",
   "id": "8520e787",
   "metadata": {},
   "source": [
    "# Training"
   ]
  },
  {
   "cell_type": "code",
   "execution_count": 2,
   "id": "c9945cae",
   "metadata": {},
   "outputs": [],
   "source": [
    "class ermQA(torch.utils.data.Dataset):\n",
    "    def __init__(self, filename):\n",
    "        with open(f\"processed_data/{filename}.pickle\", \"rb\") as f:\n",
    "            self.encodings = pickle.load(f)\n",
    "\n",
    "    def __getitem__(self, idx):\n",
    "        return {key: torch.tensor(val[idx]) for key, val in self.encodings.items()}\n",
    "\n",
    "    def __len__(self):\n",
    "        return len(self.encodings.input_ids)"
   ]
  },
  {
   "cell_type": "code",
   "execution_count": 3,
   "id": "ef828df0",
   "metadata": {},
   "outputs": [
    {
     "name": "stderr",
     "output_type": "stream",
     "text": [
      "Some weights of BertForQuestionAnswering were not initialized from the model checkpoint at dmis-lab/biobert-v1.1 and are newly initialized: ['qa_outputs.weight', 'qa_outputs.bias']\n",
      "You should probably TRAIN this model on a down-stream task to be able to use it for predictions and inference.\n"
     ]
    }
   ],
   "source": [
    "model = AutoModelForQuestionAnswering.from_pretrained(\"dmis-lab/biobert-v1.1\")\n",
    "metadata = dict()\n",
    "# for param in model.distilbert.parameters():\n",
    "#     param.requires_grad = False\n",
    "# model = torch.load('models/bioBERT/m_1_uf_e_6_vl_0.7865.model')\n",
    "# with open('models/bioBERT/m_1_uf_e_6_vl_0.7865_metadata.pickle', 'rb') as f:\n",
    "#     metadata = pickle.load(f)"
   ]
  },
  {
   "cell_type": "code",
   "execution_count": 4,
   "id": "e3ef05d3",
   "metadata": {},
   "outputs": [],
   "source": [
    "TRAIN_BATCH_SIZE = 6\n",
    "train_dataset = ermQA('relations_qa_bio_train')\n",
    "train_loader = DataLoader(train_dataset, batch_size=TRAIN_BATCH_SIZE, shuffle=True)\n",
    "\n",
    "\n",
    "TEST_BATCH_SIZE = 6\n",
    "val_dataset = ermQA('relations_qa_bio_val')\n",
    "val_loader = DataLoader(val_dataset, batch_size=TEST_BATCH_SIZE, shuffle=True)"
   ]
  },
  {
   "cell_type": "code",
   "execution_count": 5,
   "id": "92c6313c",
   "metadata": {},
   "outputs": [
    {
     "name": "stderr",
     "output_type": "stream",
     "text": [
      "  0%|          | 0/13317 [00:00<?, ?it/s]C:\\Users\\lcwon\\Anaconda3\\envs\\gpu\\lib\\site-packages\\ipykernel_launcher.py:7: UserWarning: To copy construct from a tensor, it is recommended to use sourceTensor.clone().detach() or sourceTensor.clone().detach().requires_grad_(True), rather than torch.tensor(sourceTensor).\n",
      "  import sys\n",
      "C:\\Users\\lcwon\\Anaconda3\\envs\\gpu\\lib\\site-packages\\ipykernel_launcher.py:28: UserWarning: To copy construct from a tensor, it is recommended to use sourceTensor.clone().detach() or sourceTensor.clone().detach().requires_grad_(True), rather than torch.tensor(sourceTensor).\n",
      "C:\\Users\\lcwon\\Anaconda3\\envs\\gpu\\lib\\site-packages\\ipykernel_launcher.py:29: UserWarning: To copy construct from a tensor, it is recommended to use sourceTensor.clone().detach() or sourceTensor.clone().detach().requires_grad_(True), rather than torch.tensor(sourceTensor).\n",
      "C:\\Users\\lcwon\\Anaconda3\\envs\\gpu\\lib\\site-packages\\ipykernel_launcher.py:30: UserWarning: To copy construct from a tensor, it is recommended to use sourceTensor.clone().detach() or sourceTensor.clone().detach().requires_grad_(True), rather than torch.tensor(sourceTensor).\n",
      "C:\\Users\\lcwon\\Anaconda3\\envs\\gpu\\lib\\site-packages\\ipykernel_launcher.py:31: UserWarning: To copy construct from a tensor, it is recommended to use sourceTensor.clone().detach() or sourceTensor.clone().detach().requires_grad_(True), rather than torch.tensor(sourceTensor).\n",
      "C:\\Users\\lcwon\\Anaconda3\\envs\\gpu\\lib\\site-packages\\ipykernel_launcher.py:32: UserWarning: To copy construct from a tensor, it is recommended to use sourceTensor.clone().detach() or sourceTensor.clone().detach().requires_grad_(True), rather than torch.tensor(sourceTensor).\n",
      "100%|██████████| 13317/13317 [2:21:23<00:00,  1.57it/s] \n",
      "  0%|          | 0/4439 [00:00<?, ?it/s]C:\\Users\\lcwon\\Anaconda3\\envs\\gpu\\lib\\site-packages\\ipykernel_launcher.py:52: UserWarning: To copy construct from a tensor, it is recommended to use sourceTensor.clone().detach() or sourceTensor.clone().detach().requires_grad_(True), rather than torch.tensor(sourceTensor).\n",
      "C:\\Users\\lcwon\\Anaconda3\\envs\\gpu\\lib\\site-packages\\ipykernel_launcher.py:53: UserWarning: To copy construct from a tensor, it is recommended to use sourceTensor.clone().detach() or sourceTensor.clone().detach().requires_grad_(True), rather than torch.tensor(sourceTensor).\n",
      "C:\\Users\\lcwon\\Anaconda3\\envs\\gpu\\lib\\site-packages\\ipykernel_launcher.py:54: UserWarning: To copy construct from a tensor, it is recommended to use sourceTensor.clone().detach() or sourceTensor.clone().detach().requires_grad_(True), rather than torch.tensor(sourceTensor).\n",
      "C:\\Users\\lcwon\\Anaconda3\\envs\\gpu\\lib\\site-packages\\ipykernel_launcher.py:55: UserWarning: To copy construct from a tensor, it is recommended to use sourceTensor.clone().detach() or sourceTensor.clone().detach().requires_grad_(True), rather than torch.tensor(sourceTensor).\n",
      "C:\\Users\\lcwon\\Anaconda3\\envs\\gpu\\lib\\site-packages\\ipykernel_launcher.py:56: UserWarning: To copy construct from a tensor, it is recommended to use sourceTensor.clone().detach() or sourceTensor.clone().detach().requires_grad_(True), rather than torch.tensor(sourceTensor).\n",
      "100%|██████████| 4439/4439 [14:05<00:00,  5.25it/s]\n"
     ]
    },
    {
     "name": "stdout",
     "output_type": "stream",
     "text": [
      "Epoch: 0, train_loss: 0.7206070639414297, val_loss: 0.4803323878521256\n"
     ]
    },
    {
     "name": "stderr",
     "output_type": "stream",
     "text": [
      "100%|██████████| 13317/13317 [2:19:22<00:00,  1.59it/s] \n",
      "100%|██████████| 4439/4439 [14:03<00:00,  5.26it/s]\n"
     ]
    },
    {
     "name": "stdout",
     "output_type": "stream",
     "text": [
      "Epoch: 1, train_loss: 0.46262662184167275, val_loss: 0.45042239221997304\n"
     ]
    },
    {
     "name": "stderr",
     "output_type": "stream",
     "text": [
      "100%|██████████| 13317/13317 [2:17:02<00:00,  1.62it/s] \n",
      "100%|██████████| 4439/4439 [13:26<00:00,  5.51it/s]\n"
     ]
    },
    {
     "name": "stdout",
     "output_type": "stream",
     "text": [
      "Epoch: 2, train_loss: 4.747472540038395, val_loss: 12.476650028783046\n"
     ]
    },
    {
     "name": "stderr",
     "output_type": "stream",
     "text": [
      "100%|██████████| 13317/13317 [2:15:52<00:00,  1.63it/s] \n",
      "100%|██████████| 4439/4439 [13:28<00:00,  5.49it/s]\n"
     ]
    },
    {
     "name": "stdout",
     "output_type": "stream",
     "text": [
      "Epoch: 3, train_loss: 12.479288038248198, val_loss: 12.476649371372952\n"
     ]
    },
    {
     "name": "stderr",
     "output_type": "stream",
     "text": [
      "  5%|▍         | 661/13317 [06:46<2:09:48,  1.62it/s]\n"
     ]
    },
    {
     "ename": "KeyboardInterrupt",
     "evalue": "",
     "output_type": "error",
     "traceback": [
      "\u001b[1;31m---------------------------------------------------------------------------\u001b[0m",
      "\u001b[1;31mKeyboardInterrupt\u001b[0m                         Traceback (most recent call last)",
      "\u001b[1;32m~\\AppData\\Local\\Temp/ipykernel_1924/3256008729.py\u001b[0m in \u001b[0;36m<module>\u001b[1;34m\u001b[0m\n\u001b[0;32m     24\u001b[0m     \u001b[0mmodel\u001b[0m\u001b[1;33m.\u001b[0m\u001b[0mtrain\u001b[0m\u001b[1;33m(\u001b[0m\u001b[1;33m)\u001b[0m\u001b[1;33m\u001b[0m\u001b[1;33m\u001b[0m\u001b[0m\n\u001b[0;32m     25\u001b[0m     \u001b[1;32mfor\u001b[0m \u001b[0mbatch\u001b[0m \u001b[1;32min\u001b[0m \u001b[0mtqdm\u001b[0m\u001b[1;33m(\u001b[0m\u001b[0mtrain_loader\u001b[0m\u001b[1;33m)\u001b[0m\u001b[1;33m:\u001b[0m\u001b[1;33m\u001b[0m\u001b[1;33m\u001b[0m\u001b[0m\n\u001b[1;32m---> 26\u001b[1;33m         \u001b[0mtorch\u001b[0m\u001b[1;33m.\u001b[0m\u001b[0mcuda\u001b[0m\u001b[1;33m.\u001b[0m\u001b[0mempty_cache\u001b[0m\u001b[1;33m(\u001b[0m\u001b[1;33m)\u001b[0m\u001b[1;33m\u001b[0m\u001b[1;33m\u001b[0m\u001b[0m\n\u001b[0m\u001b[0;32m     27\u001b[0m \u001b[1;33m\u001b[0m\u001b[0m\n\u001b[0;32m     28\u001b[0m         \u001b[0minput_ids\u001b[0m \u001b[1;33m=\u001b[0m \u001b[0mtorch\u001b[0m\u001b[1;33m.\u001b[0m\u001b[0mtensor\u001b[0m\u001b[1;33m(\u001b[0m\u001b[0mbatch\u001b[0m\u001b[1;33m[\u001b[0m\u001b[1;34m'input_ids'\u001b[0m\u001b[1;33m]\u001b[0m\u001b[1;33m)\u001b[0m\u001b[1;33m.\u001b[0m\u001b[0mto\u001b[0m\u001b[1;33m(\u001b[0m\u001b[0mdevice\u001b[0m\u001b[1;33m)\u001b[0m\u001b[1;33m\u001b[0m\u001b[1;33m\u001b[0m\u001b[0m\n",
      "\u001b[1;31mKeyboardInterrupt\u001b[0m: "
     ]
    }
   ],
   "source": [
    "torch.cuda.empty_cache()\n",
    "\n",
    "NUM_EPOCHS = 10\n",
    "\n",
    "model.to(device)\n",
    "\n",
    "optim = AdamW(model.parameters(), lr=5e-5)\n",
    "loss_func = nn.CrossEntropyLoss()\n",
    "\n",
    "if metadata == {}:\n",
    "    START_EPOCH = 0\n",
    "    train_loss = []\n",
    "    val_loss = []\n",
    "else:\n",
    "    START_EPOCH = metadata['epoch'] + 1\n",
    "    train_loss = metadata['train_loss']\n",
    "    val_loss = metadata['valid_loss']\n",
    "\n",
    "\n",
    "for epoch in range(START_EPOCH, START_EPOCH+NUM_EPOCHS):\n",
    "    batch_loss = []\n",
    "    \n",
    "    # Train\n",
    "    model.train()\n",
    "    for batch in tqdm(train_loader):\n",
    "        torch.cuda.empty_cache()\n",
    "\n",
    "        input_ids = torch.tensor(batch['input_ids']).to(device)\n",
    "        token_type_ids = torch.tensor(batch['token_type_ids']).to(device)\n",
    "        attention_mask = torch.tensor(batch['attention_mask']).to(device)\n",
    "        start_positions = torch.tensor(batch['start_positions']).to(device)\n",
    "        end_positions = torch.tensor(batch['end_positions']).to(device)\n",
    "        \n",
    "        outputs = model(input_ids = input_ids, \n",
    "                        token_type_ids = token_type_ids, \n",
    "                        attention_mask = attention_mask\n",
    "                       )  \n",
    "        loss = loss_func(outputs['start_logits'], start_positions) + loss_func(outputs['end_logits'], end_positions)\n",
    "        \n",
    "        batch_loss.append(loss.item())\n",
    "        optim.zero_grad()\n",
    "        loss.backward()\n",
    "        optim.step() \n",
    "    train_loss.append(np.mean(batch_loss))\n",
    "\n",
    "        \n",
    "    # Validation\n",
    "    model.eval()\n",
    "    batch_loss = []\n",
    "    with torch.no_grad():\n",
    "        for batch in tqdm(val_loader):\n",
    "            input_ids = torch.tensor(batch['input_ids']).to(device)\n",
    "            token_type_ids = torch.tensor(batch['token_type_ids']).to(device)\n",
    "            attention_mask = torch.tensor(batch['attention_mask']).to(device)\n",
    "            start_positions = torch.tensor(batch['start_positions']).to(device)\n",
    "            end_positions = torch.tensor(batch['end_positions']).to(device)\n",
    "            outputs = model(input_ids = input_ids, \n",
    "                            token_type_ids = token_type_ids, \n",
    "                            attention_mask = attention_mask\n",
    "                           )  \n",
    "            loss = loss_func(outputs['start_logits'], start_positions) + loss_func(outputs['end_logits'], end_positions)\n",
    "            batch_loss.append(loss.item())\n",
    "    val_loss.append(np.mean(batch_loss))\n",
    "    \n",
    "    \n",
    "    print(f'Epoch: {epoch}, train_loss: {train_loss[-1]}, val_loss: {val_loss[-1]}')\n",
    "    \n",
    "    model_name = f'models/bioBERT/m_1_uf_e_{len(val_loss)}_vl_{round(val_loss[-1], 4)}'\n",
    "    metadata = {\n",
    "        'epoch': epoch,\n",
    "        'train_loss': train_loss,\n",
    "        'valid_loss': val_loss\n",
    "    }\n",
    "    \n",
    "    \n",
    "    # Early Stopping\n",
    "    if len(val_loss) > 3:\n",
    "        if val_loss[-1] > val_loss[-2] > val_loss[-3]:\n",
    "            torch.save(model, f'{model_name}.model')\n",
    "            \n",
    "            with open(f'{model_name}_metadata.pickle', 'wb') as f:\n",
    "                pickle.dump(metadata, f)\n",
    "            break\n",
    "            \n",
    "    # Check point\n",
    "#     if len(val_loss) % 4 == 0 or NUM_EPOCHS == epoch+1:\n",
    "    torch.save(model, f'{model_name}.model ')\n",
    "    with open(f'{model_name}_metadata.pickle', 'wb') as f:\n",
    "        pickle.dump(metadata, f)\n",
    "           "
   ]
  },
  {
   "cell_type": "code",
   "execution_count": null,
   "id": "e3f20b8e",
   "metadata": {},
   "outputs": [],
   "source": []
  },
  {
   "cell_type": "markdown",
   "id": "ee6dd31e",
   "metadata": {},
   "source": [
    "# Metrics"
   ]
  },
  {
   "cell_type": "code",
   "execution_count": 3,
   "id": "524a1edf",
   "metadata": {},
   "outputs": [],
   "source": [
    "def compute_exact_match(prediction, truth):\n",
    "    exact_match = 0\n",
    "    for pred, tru in zip(prediction, truth):\n",
    "        if pred == tru:\n",
    "            exact_match += 1\n",
    "    return exact_match / len(prediction)\n",
    "\n",
    "\n",
    "def getOverlap(a, b):\n",
    "    return max(0, min(a[1], b[1]) - max(a[0], b[0]))\n",
    "\n",
    "\n",
    "def compute_tav_fast(start_logits, end_logits):\n",
    "    start_probs, end_probs = (torch.softmax(start_logits, dim=0), torch.softmax(end_logits, dim=0))\n",
    "    n = len(start_logits)\n",
    "    s_null = start_probs[0] + end_probs[0]\n",
    "    s_has = 0\n",
    "    best_span = (0, 0)\n",
    "    high_start_idx = 1\n",
    "  \n",
    "    for i in range(1, n):\n",
    "        if start_probs[i] > start_probs[high_start_idx]:\n",
    "            high_start_idx = i\n",
    "        if start_probs[high_start_idx] + end_probs[i] > s_has:\n",
    "            s_has = start_probs[high_start_idx] + end_probs[i]\n",
    "            best_span = (high_start_idx, i)\n",
    "            \n",
    "    s_diff = s_null - s_has\n",
    "    return s_diff.item(), best_span\n",
    "\n",
    "def compute_f1(prediction, truth, input_id_list):\n",
    "    \n",
    "    f1_scores = []\n",
    "    \n",
    "    for i, (pred, gold) in enumerate(zip(prediction, truth)):\n",
    "        \n",
    "        if pred == gold:\n",
    "            f1_scores.append(1)\n",
    "            \n",
    "        else:\n",
    "            pred_tokens = input_id_list[i-1][pred[0]: pred[1]+1]\n",
    "            gold_tokens = input_id_list[i-1][gold[0]: gold[1]+1]\n",
    "\n",
    "            total_overlap = len(set(pred_tokens).intersection(set(gold_tokens)))\n",
    "            total_tru = len(gold_tokens)\n",
    "            total_pred = len(pred_tokens)\n",
    "\n",
    "            if len(pred_tokens) == 0 or len(gold_tokens) == 0:\n",
    "                f1_scores.append(int(pred_tokens == gold_tokens))\n",
    "            elif total_overlap == 0:\n",
    "                f1_scores.append(0)\n",
    "            else:\n",
    "                prec = total_overlap / total_pred\n",
    "                rec = total_overlap / total_tru\n",
    "                f1_scores.append(2 * (prec * rec) / (prec + rec))\n",
    "    \n",
    "    return np.mean(f1_scores)"
   ]
  },
  {
   "cell_type": "code",
   "execution_count": 13,
   "id": "306c1b90",
   "metadata": {},
   "outputs": [],
   "source": [
    "def generate_predictions(model, data_loader, split):\n",
    "    truths = []\n",
    "    \n",
    "    # Greedy\n",
    "    spans_greedy = []\n",
    "    \n",
    "    # TAV\n",
    "    s_diffs = []\n",
    "    spans_tav = []\n",
    "    \n",
    "    input_id_list = []\n",
    "    \n",
    "    model.eval()\n",
    "    for batch in tqdm(data_loader):\n",
    "        \n",
    "        # we don't need to calculate gradients as we're not training\n",
    "        with torch.no_grad():\n",
    "            # Truth Span\n",
    "            for i, j, k in zip(batch['start_positions'], batch['end_positions'], batch['input_ids']):\n",
    "                truths.append((i.item(), j.item()))\n",
    "                input_id_list.append(k.tolist())\n",
    "        \n",
    "            \n",
    "            # Predictions\n",
    "            input_ids = batch['input_ids'].to(device)\n",
    "            attention_mask = batch['attention_mask'].to(device)\n",
    "            outputs = model(input_ids, attention_mask=attention_mask)\n",
    "            \n",
    "            # Greedy\n",
    "            for i, j in zip(torch.argmax(outputs['start_logits'], dim=1), torch.argmax(outputs['end_logits'], dim=1)):\n",
    "                spans_greedy.append((i.item(), j.item()))\n",
    "            \n",
    "            # TAV\n",
    "            for i, j in zip(outputs['start_logits'], outputs['end_logits']):\n",
    "                s_diff, span = compute_tav_fast(i, j)\n",
    "                s_diffs.append(s_diff)\n",
    "                spans_tav.append(span)\n",
    "    \n",
    "    predictions_metadata = {\n",
    "        'truth': truths,\n",
    "        'spans_greedy': spans_greedy,\n",
    "        's_diffs': s_diffs,\n",
    "        'spans_tav': spans_tav,\n",
    "        'input_id_list': input_id_list\n",
    "    }\n",
    "    with open(f'predictions/bioBERT/relations_{split}.pickle', 'wb') as f:\n",
    "        pickle.dump(predictions_metadata, f)\n",
    "            \n",
    "    return predictions_metadata\n",
    "\n",
    "\n",
    "def evaluate_predictions(predictions_metadata, tav=False, threshold=-0.98, print_info=False):\n",
    "    if not tav:\n",
    "        spans_pred = predictions_metadata['spans_greedy']\n",
    "    else:\n",
    "        spans_pred = []\n",
    "        for s_diff, span_tav in zip(predictions_metadata['s_diffs'], predictions_metadata['spans_tav']):\n",
    "            if s_diff < threshold:\n",
    "                spans_pred.append(span_tav)\n",
    "            else:\n",
    "                spans_pred.append((0, 0))\n",
    "                \n",
    "    em = compute_exact_match(spans_pred, predictions_metadata['truth'])\n",
    "    f1 = compute_f1(spans_pred,  predictions_metadata['truth'], predictions_metadata['input_id_list'])\n",
    "    \n",
    "    if print_info:\n",
    "        print(f'EM: {round(em*100, 1)}, F1: {round(f1*100, 1)}')\n",
    "        \n",
    "    return em, f1"
   ]
  },
  {
   "cell_type": "code",
   "execution_count": 4,
   "id": "5897f1aa",
   "metadata": {},
   "outputs": [],
   "source": [
    "TEST_BATCH_SIZE = 64\n",
    "test_dataset = ermQA('relations_qa_bio_test')\n",
    "test_loader = DataLoader(test_dataset, batch_size=TEST_BATCH_SIZE, shuffle=False)\n",
    "\n",
    "\n",
    "train_dataset = ermQA('relations_qa_bio_train')\n",
    "train_loader = DataLoader(train_dataset, batch_size=TEST_BATCH_SIZE, shuffle=False)\n",
    "\n",
    "model = torch.load('models/bioBERT/r_1_uf_e_2_vl_0.4504.model')"
   ]
  },
  {
   "cell_type": "code",
   "execution_count": 14,
   "id": "f754b814",
   "metadata": {},
   "outputs": [
    {
     "name": "stderr",
     "output_type": "stream",
     "text": [
      "  0%|          | 0/417 [00:00<?, ?it/s]C:\\Users\\lcwon\\Anaconda3\\envs\\gpu\\lib\\site-packages\\ipykernel_launcher.py:7: UserWarning: To copy construct from a tensor, it is recommended to use sourceTensor.clone().detach() or sourceTensor.clone().detach().requires_grad_(True), rather than torch.tensor(sourceTensor).\n",
      "  import sys\n",
      "100%|██████████| 417/417 [38:38<00:00,  5.56s/it]\n"
     ]
    }
   ],
   "source": [
    "test_predictions_metadata = generate_predictions(model, test_loader, 'test')\n",
    "# with open('predictions/bioBERT/medication_test.pickle', 'rb') as f:\n",
    "#     test_predictions_metadata = pickle.load(f)"
   ]
  },
  {
   "cell_type": "code",
   "execution_count": 15,
   "id": "97e3ab70",
   "metadata": {},
   "outputs": [
    {
     "name": "stdout",
     "output_type": "stream",
     "text": [
      "EM: 46.4, F1: 49.3\n"
     ]
    }
   ],
   "source": [
    "em, f1 = evaluate_predictions(test_predictions_metadata, tav=False, print_info=True)"
   ]
  },
  {
   "cell_type": "code",
   "execution_count": 23,
   "id": "bb5a9a87",
   "metadata": {},
   "outputs": [
    {
     "name": "stdout",
     "output_type": "stream",
     "text": [
      "EM: 51.2, F1: 53.1\n"
     ]
    }
   ],
   "source": [
    "em, f1 = evaluate_predictions(test_predictions_metadata, tav=True, threshold=.59, print_info=True)"
   ]
  },
  {
   "cell_type": "code",
   "execution_count": 17,
   "id": "2417f468",
   "metadata": {},
   "outputs": [
    {
     "name": "stderr",
     "output_type": "stream",
     "text": [
      "  0%|          | 0/1249 [00:00<?, ?it/s]C:\\Users\\lcwon\\Anaconda3\\envs\\gpu\\lib\\site-packages\\ipykernel_launcher.py:7: UserWarning: To copy construct from a tensor, it is recommended to use sourceTensor.clone().detach() or sourceTensor.clone().detach().requires_grad_(True), rather than torch.tensor(sourceTensor).\n",
      "  import sys\n",
      "100%|██████████| 1249/1249 [1:55:40<00:00,  5.56s/it]\n"
     ]
    }
   ],
   "source": [
    "train_predictions_metadata = generate_predictions(model, train_loader, 'train')"
   ]
  },
  {
   "cell_type": "code",
   "execution_count": 18,
   "id": "3e6782d8",
   "metadata": {},
   "outputs": [
    {
     "name": "stdout",
     "output_type": "stream",
     "text": [
      "EM: 48.1, F1: 50.9\n"
     ]
    }
   ],
   "source": [
    "em, f1 = evaluate_predictions(train_predictions_metadata, tav=False, print_info=True)"
   ]
  },
  {
   "cell_type": "code",
   "execution_count": 21,
   "id": "4158b18b",
   "metadata": {},
   "outputs": [],
   "source": [
    "em_list = []\n",
    "thresholds = []\n",
    "for threshold in np.arange(-1, 1, .01):\n",
    "    em, f1 = evaluate_predictions(train_predictions_metadata, tav=True, threshold=threshold, print_info=False)\n",
    "    em_list.append(em)\n",
    "    thresholds.append(threshold)"
   ]
  },
  {
   "cell_type": "code",
   "execution_count": 22,
   "id": "760335a9",
   "metadata": {},
   "outputs": [
    {
     "name": "stdout",
     "output_type": "stream",
     "text": [
      "-0.5899999999999996\n",
      "EM: 59.6, F1: 60.0\n"
     ]
    },
    {
     "data": {
      "text/plain": [
       "(0.5962202753441802, 0.6002993313730656)"
      ]
     },
     "execution_count": 22,
     "metadata": {},
     "output_type": "execute_result"
    },
    {
     "data": {
      "image/png": "[encoded data removed]",
      "text/plain": [
       "<Figure size 432x288 with 1 Axes>"
      ]
     },
     "metadata": {
      "needs_background": "light"
     },
     "output_type": "display_data"
    }
   ],
   "source": [
    "sns.lineplot(x=thresholds, y=em_list)\n",
    "max_index = em_list.index(max(em_list))\n",
    "threshold = thresholds[max_index]\n",
    "print(threshold)\n",
    "evaluate_predictions(train_predictions_metadata, tav=True, threshold=threshold, print_info=True)"
   ]
  },
  {
   "cell_type": "code",
   "execution_count": null,
   "id": "2117185b",
   "metadata": {},
   "outputs": [],
   "source": []
  }
 ],
 "metadata": {
  "kernelspec": {
   "display_name": "Python 3 (ipykernel)",
   "language": "python",
   "name": "python3"
  },
  "language_info": {
   "codemirror_mode": {
    "name": "ipython",
    "version": 3
   },
   "file_extension": ".py",
   "mimetype": "text/x-python",
   "name": "python",
   "nbconvert_exporter": "python",
   "pygments_lexer": "ipython3",
   "version": "3.7.11"
  }
 },
 "nbformat": 4,
 "nbformat_minor": 5
}
