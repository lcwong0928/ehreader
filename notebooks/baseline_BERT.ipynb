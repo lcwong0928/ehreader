{
 "cells": [
  {
   "cell_type": "code",
   "execution_count": 1,
   "id": "3c68459f",
   "metadata": {},
   "outputs": [
    {
     "data": {
      "text/plain": [
       "device(type='cuda')"
      ]
     },
     "execution_count": 1,
     "metadata": {},
     "output_type": "execute_result"
    }
   ],
   "source": [
    "import pandas as pd\n",
    "import json\n",
    "import numpy as np\n",
    "from collections import Counter\n",
    "import pickle\n",
    "from tqdm import tqdm\n",
    "import seaborn as sns\n",
    "import collections\n",
    "\n",
    "import torch\n",
    "from torch.utils.data import DataLoader\n",
    "from transformers import AdamW\n",
    "from transformers import BertTokenizer, TFBertForSequenceClassification, BertConfig ,DistilBertTokenizerFast, DistilBertForQuestionAnswering\n",
    "\n",
    "from sklearn.model_selection import train_test_split\n",
    "from sklearn.utils import resample\n",
    "\n",
    "device = torch.device('cuda') if torch.cuda.is_available() else torch.device('cpu')\n",
    "device"
   ]
  },
  {
   "cell_type": "markdown",
   "id": "41870706",
   "metadata": {},
   "source": [
    "# More Data Processing"
   ]
  },
  {
   "cell_type": "code",
   "execution_count": 2,
   "id": "d1a4f9f2",
   "metadata": {},
   "outputs": [],
   "source": [
    "samples = pd.read_parquet('processed_data/medication_qa.parquet')\n",
    "pos_samples = samples[samples.answerability == 1]\n",
    "neg_samples = samples[samples.answerability == 0]"
   ]
  },
  {
   "cell_type": "code",
   "execution_count": 3,
   "id": "3f80b1cf",
   "metadata": {},
   "outputs": [
    {
     "data": {
      "text/html": [
       "<div>\n",
       "<style scoped>\n",
       "    .dataframe tbody tr th:only-of-type {\n",
       "        vertical-align: middle;\n",
       "    }\n",
       "\n",
       "    .dataframe tbody tr th {\n",
       "        vertical-align: top;\n",
       "    }\n",
       "\n",
       "    .dataframe thead th {\n",
       "        text-align: right;\n",
       "    }\n",
       "</style>\n",
       "<table border=\"1\" class=\"dataframe\">\n",
       "  <thead>\n",
       "    <tr style=\"text-align: right;\">\n",
       "      <th></th>\n",
       "      <th>note_id</th>\n",
       "      <th>note_question_id</th>\n",
       "      <th>sub_context</th>\n",
       "      <th>question</th>\n",
       "      <th>answerability</th>\n",
       "      <th>token_start</th>\n",
       "      <th>token_end</th>\n",
       "      <th>char_start</th>\n",
       "      <th>char_end</th>\n",
       "    </tr>\n",
       "  </thead>\n",
       "  <tbody>\n",
       "    <tr>\n",
       "      <th>0</th>\n",
       "      <td>91996</td>\n",
       "      <td>0</td>\n",
       "      <td>[RECORD, #91996, 150823816, |, DMC, |, 6095698...</td>\n",
       "      <td>[Was, the, patient, ever, prescribed, aspirin]</td>\n",
       "      <td>1</td>\n",
       "      <td>94</td>\n",
       "      <td>106</td>\n",
       "      <td>548</td>\n",
       "      <td>613</td>\n",
       "    </tr>\n",
       "    <tr>\n",
       "      <th>7</th>\n",
       "      <td>91996</td>\n",
       "      <td>1</td>\n",
       "      <td>[RECORD, #91996, 150823816, |, DMC, |, 6095698...</td>\n",
       "      <td>[Is, there, history, of, use, of, fioricet.]</td>\n",
       "      <td>1</td>\n",
       "      <td>94</td>\n",
       "      <td>106</td>\n",
       "      <td>548</td>\n",
       "      <td>613</td>\n",
       "    </tr>\n",
       "    <tr>\n",
       "      <th>14</th>\n",
       "      <td>91996</td>\n",
       "      <td>2</td>\n",
       "      <td>[RECORD, #91996, 150823816, |, DMC, |, 6095698...</td>\n",
       "      <td>[has, there, been, a, prior, tylenol]</td>\n",
       "      <td>1</td>\n",
       "      <td>94</td>\n",
       "      <td>106</td>\n",
       "      <td>548</td>\n",
       "      <td>613</td>\n",
       "    </tr>\n",
       "    <tr>\n",
       "      <th>21</th>\n",
       "      <td>91996</td>\n",
       "      <td>3</td>\n",
       "      <td>[RECORD, #91996, 150823816, |, DMC, |, 6095698...</td>\n",
       "      <td>[Is, there, a, mention, of, of, valproic, acid...</td>\n",
       "      <td>1</td>\n",
       "      <td>196</td>\n",
       "      <td>208</td>\n",
       "      <td>1191</td>\n",
       "      <td>1254</td>\n",
       "    </tr>\n",
       "    <tr>\n",
       "      <th>29</th>\n",
       "      <td>91996</td>\n",
       "      <td>4</td>\n",
       "      <td>[documented, recent, seizures;, history, of, a...</td>\n",
       "      <td>[Has, the, patient, ever, tried, medicines]</td>\n",
       "      <td>1</td>\n",
       "      <td>10</td>\n",
       "      <td>19</td>\n",
       "      <td>66</td>\n",
       "      <td>132</td>\n",
       "    </tr>\n",
       "  </tbody>\n",
       "</table>\n",
       "</div>"
      ],
      "text/plain": [
       "   note_id  note_question_id  \\\n",
       "0    91996                 0   \n",
       "7    91996                 1   \n",
       "14   91996                 2   \n",
       "21   91996                 3   \n",
       "29   91996                 4   \n",
       "\n",
       "                                          sub_context  \\\n",
       "0   [RECORD, #91996, 150823816, |, DMC, |, 6095698...   \n",
       "7   [RECORD, #91996, 150823816, |, DMC, |, 6095698...   \n",
       "14  [RECORD, #91996, 150823816, |, DMC, |, 6095698...   \n",
       "21  [RECORD, #91996, 150823816, |, DMC, |, 6095698...   \n",
       "29  [documented, recent, seizures;, history, of, a...   \n",
       "\n",
       "                                             question  answerability  \\\n",
       "0      [Was, the, patient, ever, prescribed, aspirin]              1   \n",
       "7        [Is, there, history, of, use, of, fioricet.]              1   \n",
       "14              [has, there, been, a, prior, tylenol]              1   \n",
       "21  [Is, there, a, mention, of, of, valproic, acid...              1   \n",
       "29        [Has, the, patient, ever, tried, medicines]              1   \n",
       "\n",
       "    token_start  token_end  char_start  char_end  \n",
       "0            94        106         548       613  \n",
       "7            94        106         548       613  \n",
       "14           94        106         548       613  \n",
       "21          196        208        1191      1254  \n",
       "29           10         19          66       132  "
      ]
     },
     "execution_count": 3,
     "metadata": {},
     "output_type": "execute_result"
    }
   ],
   "source": [
    "pos_samples.head()"
   ]
  },
  {
   "cell_type": "markdown",
   "id": "9fe00b84",
   "metadata": {},
   "source": [
    "Down sampling"
   ]
  },
  {
   "cell_type": "code",
   "execution_count": 4,
   "id": "b950a54a",
   "metadata": {},
   "outputs": [
    {
     "name": "stdout",
     "output_type": "stream",
     "text": [
      "# pos 30240\n",
      "# neg 191200\n",
      "# neg 30240\n"
     ]
    }
   ],
   "source": [
    "# pos_samples = resample(pos_samples, replace=False, n_samples=100, random_state=0) \n",
    "print('# pos', len(pos_samples))\n",
    "print('# neg', len(neg_samples))\n",
    "neg_samples = resample(neg_samples, replace=False, n_samples=len(pos_samples), random_state=0) \n",
    "print('# neg', len(neg_samples))"
   ]
  },
  {
   "cell_type": "markdown",
   "id": "849c4aef",
   "metadata": {},
   "source": [
    "Train/Test Split"
   ]
  },
  {
   "cell_type": "code",
   "execution_count": 5,
   "id": "59356097",
   "metadata": {},
   "outputs": [
    {
     "name": "stderr",
     "output_type": "stream",
     "text": [
      "C:\\Users\\lcwon\\Anaconda3\\envs\\gpu\\lib\\site-packages\\ipykernel_launcher.py:4: SettingWithCopyWarning: \n",
      "A value is trying to be set on a copy of a slice from a DataFrame.\n",
      "Try using .loc[row_indexer,col_indexer] = value instead\n",
      "\n",
      "See the caveats in the documentation: https://pandas.pydata.org/pandas-docs/stable/user_guide/indexing.html#returning-a-view-versus-a-copy\n",
      "  after removing the cwd from sys.path.\n"
     ]
    },
    {
     "name": "stdout",
     "output_type": "stream",
     "text": [
      "(36288, 2) (36288, 5)\n",
      "(12096, 2) (12096, 5)\n",
      "(12096, 2) (12096, 5)\n"
     ]
    },
    {
     "name": "stderr",
     "output_type": "stream",
     "text": [
      "C:\\Users\\lcwon\\Anaconda3\\envs\\gpu\\lib\\site-packages\\ipykernel_launcher.py:5: SettingWithCopyWarning: \n",
      "A value is trying to be set on a copy of a slice from a DataFrame.\n",
      "Try using .loc[row_indexer,col_indexer] = value instead\n",
      "\n",
      "See the caveats in the documentation: https://pandas.pydata.org/pandas-docs/stable/user_guide/indexing.html#returning-a-view-versus-a-copy\n",
      "  \"\"\"\n"
     ]
    }
   ],
   "source": [
    "samples = pd.concat([pos_samples, neg_samples], axis=0)\n",
    "\n",
    "X = samples[['sub_context', 'question']]\n",
    "X['question'] = X['question'].apply(lambda x: ' '.join(x))\n",
    "X['sub_context'] = X['sub_context'].apply(lambda x: ' '.join(x))\n",
    "y = samples[['answerability', 'token_start', 'token_end', 'char_start', 'char_end']]\n",
    "\n",
    "\n",
    "X_train, X_test, y_train, y_test = train_test_split(X, y, test_size=0.2, \n",
    "                                                    random_state=0, \n",
    "                                                    stratify=np.asarray(y['answerability']))\n",
    "\n",
    "X_train, X_val, y_train, y_val = train_test_split(X_train, y_train, \n",
    "                                                  test_size=0.25, \n",
    "                                                  random_state=0,\n",
    "                                                  stratify=np.asarray(y_train['answerability']))\n",
    "    \n",
    "print(X_train.shape, y_train.shape)\n",
    "print(X_val.shape, y_val.shape)\n",
    "print(X_test.shape, y_test.shape)"
   ]
  },
  {
   "cell_type": "markdown",
   "id": "9fb660d6",
   "metadata": {},
   "source": [
    "# Tokenizer + Embedding\n",
    "\n",
    "https://towardsdatascience.com/question-answering-with-a-fine-tuned-bert-bc4dafd45626"
   ]
  },
  {
   "cell_type": "code",
   "execution_count": 9,
   "id": "0f0a898c",
   "metadata": {},
   "outputs": [],
   "source": [
    "tokenizer = DistilBertTokenizerFast.from_pretrained('distilbert-base-uncased')"
   ]
  },
  {
   "cell_type": "code",
   "execution_count": 10,
   "id": "e9490608",
   "metadata": {},
   "outputs": [],
   "source": [
    "def tokenize_qa(X, y, filename=None):\n",
    "    encodings = tokenizer.batch_encode_plus(\n",
    "      list(X.values), \n",
    "      return_tensors='pt',\n",
    "      add_special_tokens = True,\n",
    "      return_token_type_ids=True,\n",
    "      padding='max_length',\n",
    "      max_length=512,\n",
    "      return_attention_mask = True,\n",
    "      truncation='longest_first', \n",
    "      return_offsets_mapping=False\n",
    "    )\n",
    "    \n",
    "    embed_token_start = []\n",
    "    embed_token_end = []\n",
    "    \n",
    "    for i in range(len(X)):\n",
    "   \n",
    "        # Start position, find closest left direction\n",
    "        start = encodings.char_to_token(i, y.char_start.iloc[i])\n",
    "        j=0\n",
    "        while start is None and j < 1000:\n",
    "            j+=1\n",
    "            start = encodings.char_to_token(i, max(0, y.char_start.iloc[i]-j))\n",
    "        j=0\n",
    "        while start is None and j < 1000:\n",
    "            j+=1\n",
    "            start = encodings.char_to_token(i, max(0, y.char_start.iloc[i]+j))\n",
    "        # 0 index\n",
    "        embed_token_start.append(start-1)\n",
    "        \n",
    "        \n",
    "        # End position, find closest right direction then left direction\n",
    "        end = encodings.char_to_token(i, max(0, y.char_end.iloc[i]-1))\n",
    "        j=0\n",
    "        while end is None and j < 1000:\n",
    "            j+=1\n",
    "            end = encodings.char_to_token(i, max(0, y.char_end.iloc[i]+j-1))\n",
    "        j=0\n",
    "        while end is None and j < 1000:\n",
    "            j+=1\n",
    "            end = encodings.char_to_token(i, max(0, y.char_end.iloc[i]-j-1))\n",
    "        # 0 index\n",
    "        embed_token_end.append(end-1)\n",
    "\n",
    "    encodings['start_positions'] = torch.tensor(embed_token_start)\n",
    "    encodings['end_positions'] = torch.tensor(embed_token_end)\n",
    "    \n",
    "    if filename:\n",
    "        with open(f'processed_data/{filename}.pickle', 'wb') as f:\n",
    "            pickle.dump(encodings, f)\n",
    "    return encodings"
   ]
  },
  {
   "cell_type": "code",
   "execution_count": 8,
   "id": "5b813b86",
   "metadata": {},
   "outputs": [],
   "source": [
    "train_encodings = tokenize_qa(X_train, y_train, filename='relations_qa_train')\n",
    "val_encodings = tokenize_qa(X_val, y_val, filename='relations_qa_val')\n",
    "test_encodings = tokenize_qa(X_test, y_test, filename='relations_qa_test')"
   ]
  },
  {
   "cell_type": "code",
   "execution_count": 9,
   "id": "95b0a4fe",
   "metadata": {},
   "outputs": [
    {
     "data": {
      "text/plain": [
       "0      39950\n",
       "159      249\n",
       "149      245\n",
       "251      242\n",
       "153      235\n",
       "       ...  \n",
       "499        1\n",
       "492        1\n",
       "384        1\n",
       "489        1\n",
       "359        1\n",
       "Length: 361, dtype: int64"
      ]
     },
     "execution_count": 9,
     "metadata": {},
     "output_type": "execute_result"
    }
   ],
   "source": [
    "pd.Series(train_encodings['start_positions']).value_counts()"
   ]
  },
  {
   "cell_type": "code",
   "execution_count": 10,
   "id": "f109f924",
   "metadata": {},
   "outputs": [
    {
     "data": {
      "text/plain": [
       "0      39950\n",
       "186      256\n",
       "250      235\n",
       "227      235\n",
       "206      234\n",
       "       ...  \n",
       "8          1\n",
       "360        1\n",
       "362        1\n",
       "4          1\n",
       "402        1\n",
       "Length: 393, dtype: int64"
      ]
     },
     "execution_count": 10,
     "metadata": {},
     "output_type": "execute_result"
    }
   ],
   "source": [
    "pd.Series(train_encodings['end_positions']).value_counts()"
   ]
  },
  {
   "cell_type": "markdown",
   "id": "b692c9e3",
   "metadata": {},
   "source": [
    "# Training\n",
    "\n",
    "https://huggingface.co/transformers/custom_datasets.html#ft-trainer"
   ]
  },
  {
   "cell_type": "code",
   "execution_count": 2,
   "id": "0b84afa2",
   "metadata": {},
   "outputs": [],
   "source": [
    "class ermQA(torch.utils.data.Dataset):\n",
    "    def __init__(self, filename):\n",
    "        with open(f\"processed_data/{filename}.pickle\", \"rb\") as f:\n",
    "            self.encodings = pickle.load(f)\n",
    "\n",
    "    def __getitem__(self, idx):\n",
    "        return {key: torch.tensor(val[idx]) for key, val in self.encodings.items()}\n",
    "\n",
    "    def __len__(self):\n",
    "        return len(self.encodings.input_ids)"
   ]
  },
  {
   "cell_type": "code",
   "execution_count": 3,
   "id": "b285675a",
   "metadata": {},
   "outputs": [],
   "source": [
    "# model = DistilBertForQuestionAnswering.from_pretrained('distilbert-base-uncased')\n",
    "# metadata = dict()\n",
    "# for param in model.distilbert.parameters():\n",
    "#     param.requires_grad = False\n",
    "model = torch.load('models/BERT/r_1_uf_e_6_vl_0.1859.model')\n",
    "with open('models/BERT/r_1_uf_e_6_vl_0.1859_metadata.pickle', 'rb') as f:\n",
    "    metadata = pickle.load(f)"
   ]
  },
  {
   "cell_type": "code",
   "execution_count": 4,
   "id": "fd0ba78f",
   "metadata": {},
   "outputs": [
    {
     "data": {
      "text/plain": [
       "{'epoch': 5,\n",
       " 'train_loss': [0.457373235778751,\n",
       "  0.24995374229940387,\n",
       "  0.2010129212766998,\n",
       "  0.17700572156436417,\n",
       "  0.15976982260101963,\n",
       "  0.14476918956254384],\n",
       " 'valid_loss': [0.24338450432068448,\n",
       "  0.22296727784380022,\n",
       "  0.20689662322678837,\n",
       "  0.2011842582111511,\n",
       "  0.21509881146696383,\n",
       "  0.18590992526267097]}"
      ]
     },
     "execution_count": 4,
     "metadata": {},
     "output_type": "execute_result"
    }
   ],
   "source": [
    "metadata"
   ]
  },
  {
   "cell_type": "code",
   "execution_count": 5,
   "id": "77859a96",
   "metadata": {},
   "outputs": [],
   "source": [
    "TRAIN_BATCH_SIZE = 8\n",
    "# TRAIN_BATCH_SIZE = 128\n",
    "train_dataset = ermQA('relations_qa_train')\n",
    "train_loader = DataLoader(train_dataset, batch_size=TRAIN_BATCH_SIZE, shuffle=True)\n",
    "\n",
    "\n",
    "TEST_BATCH_SIZE = 8\n",
    "# TEST_BATCH_SIZE = 128\n",
    "val_dataset = ermQA('relations_qa_val')\n",
    "val_loader = DataLoader(val_dataset, batch_size=TEST_BATCH_SIZE, shuffle=True)"
   ]
  },
  {
   "cell_type": "code",
   "execution_count": 6,
   "id": "0eda0e19",
   "metadata": {},
   "outputs": [
    {
     "name": "stderr",
     "output_type": "stream",
     "text": [
      "  0%|          | 0/9988 [00:00<?, ?it/s]C:\\Users\\lcwon\\Anaconda3\\envs\\gpu\\lib\\site-packages\\ipykernel_launcher.py:7: UserWarning: To copy construct from a tensor, it is recommended to use sourceTensor.clone().detach() or sourceTensor.clone().detach().requires_grad_(True), rather than torch.tensor(sourceTensor).\n",
      "  import sys\n",
      "C:\\Users\\lcwon\\Anaconda3\\envs\\gpu\\lib\\site-packages\\ipykernel_launcher.py:27: UserWarning: To copy construct from a tensor, it is recommended to use sourceTensor.clone().detach() or sourceTensor.clone().detach().requires_grad_(True), rather than torch.tensor(sourceTensor).\n",
      "C:\\Users\\lcwon\\Anaconda3\\envs\\gpu\\lib\\site-packages\\ipykernel_launcher.py:28: UserWarning: To copy construct from a tensor, it is recommended to use sourceTensor.clone().detach() or sourceTensor.clone().detach().requires_grad_(True), rather than torch.tensor(sourceTensor).\n",
      "C:\\Users\\lcwon\\Anaconda3\\envs\\gpu\\lib\\site-packages\\ipykernel_launcher.py:29: UserWarning: To copy construct from a tensor, it is recommended to use sourceTensor.clone().detach() or sourceTensor.clone().detach().requires_grad_(True), rather than torch.tensor(sourceTensor).\n",
      "C:\\Users\\lcwon\\Anaconda3\\envs\\gpu\\lib\\site-packages\\ipykernel_launcher.py:30: UserWarning: To copy construct from a tensor, it is recommended to use sourceTensor.clone().detach() or sourceTensor.clone().detach().requires_grad_(True), rather than torch.tensor(sourceTensor).\n",
      "100%|██████████| 9988/9988 [1:14:25<00:00,  2.24it/s]\n",
      "  0%|          | 0/3330 [00:00<?, ?it/s]C:\\Users\\lcwon\\Anaconda3\\envs\\gpu\\lib\\site-packages\\ipykernel_launcher.py:48: UserWarning: To copy construct from a tensor, it is recommended to use sourceTensor.clone().detach() or sourceTensor.clone().detach().requires_grad_(True), rather than torch.tensor(sourceTensor).\n",
      "C:\\Users\\lcwon\\Anaconda3\\envs\\gpu\\lib\\site-packages\\ipykernel_launcher.py:49: UserWarning: To copy construct from a tensor, it is recommended to use sourceTensor.clone().detach() or sourceTensor.clone().detach().requires_grad_(True), rather than torch.tensor(sourceTensor).\n",
      "C:\\Users\\lcwon\\Anaconda3\\envs\\gpu\\lib\\site-packages\\ipykernel_launcher.py:50: UserWarning: To copy construct from a tensor, it is recommended to use sourceTensor.clone().detach() or sourceTensor.clone().detach().requires_grad_(True), rather than torch.tensor(sourceTensor).\n",
      "C:\\Users\\lcwon\\Anaconda3\\envs\\gpu\\lib\\site-packages\\ipykernel_launcher.py:51: UserWarning: To copy construct from a tensor, it is recommended to use sourceTensor.clone().detach() or sourceTensor.clone().detach().requires_grad_(True), rather than torch.tensor(sourceTensor).\n",
      "100%|██████████| 3330/3330 [07:01<00:00,  7.90it/s]\n"
     ]
    },
    {
     "name": "stdout",
     "output_type": "stream",
     "text": [
      "Epoch: 6, train_loss: 0.13515167334150868, val_loss: 0.18512855289892768\n"
     ]
    },
    {
     "name": "stderr",
     "output_type": "stream",
     "text": [
      " 33%|███▎      | 3280/9988 [23:56<48:56,  2.28it/s]  \n"
     ]
    },
    {
     "ename": "KeyboardInterrupt",
     "evalue": "",
     "output_type": "error",
     "traceback": [
      "\u001b[1;31m---------------------------------------------------------------------------\u001b[0m",
      "\u001b[1;31mKeyboardInterrupt\u001b[0m                         Traceback (most recent call last)",
      "\u001b[1;32m~\\AppData\\Local\\Temp/ipykernel_13480/575340882.py\u001b[0m in \u001b[0;36m<module>\u001b[1;34m\u001b[0m\n\u001b[0;32m     36\u001b[0m         \u001b[0mbatch_loss\u001b[0m\u001b[1;33m.\u001b[0m\u001b[0mappend\u001b[0m\u001b[1;33m(\u001b[0m\u001b[0mloss\u001b[0m\u001b[1;33m.\u001b[0m\u001b[0mitem\u001b[0m\u001b[1;33m(\u001b[0m\u001b[1;33m)\u001b[0m\u001b[1;33m)\u001b[0m\u001b[1;33m\u001b[0m\u001b[1;33m\u001b[0m\u001b[0m\n\u001b[0;32m     37\u001b[0m         \u001b[0moptim\u001b[0m\u001b[1;33m.\u001b[0m\u001b[0mzero_grad\u001b[0m\u001b[1;33m(\u001b[0m\u001b[1;33m)\u001b[0m\u001b[1;33m\u001b[0m\u001b[1;33m\u001b[0m\u001b[0m\n\u001b[1;32m---> 38\u001b[1;33m         \u001b[0mloss\u001b[0m\u001b[1;33m.\u001b[0m\u001b[0mbackward\u001b[0m\u001b[1;33m(\u001b[0m\u001b[1;33m)\u001b[0m\u001b[1;33m\u001b[0m\u001b[1;33m\u001b[0m\u001b[0m\n\u001b[0m\u001b[0;32m     39\u001b[0m         \u001b[0moptim\u001b[0m\u001b[1;33m.\u001b[0m\u001b[0mstep\u001b[0m\u001b[1;33m(\u001b[0m\u001b[1;33m)\u001b[0m\u001b[1;33m\u001b[0m\u001b[1;33m\u001b[0m\u001b[0m\n\u001b[0;32m     40\u001b[0m     \u001b[0mtrain_loss\u001b[0m\u001b[1;33m.\u001b[0m\u001b[0mappend\u001b[0m\u001b[1;33m(\u001b[0m\u001b[0mnp\u001b[0m\u001b[1;33m.\u001b[0m\u001b[0mmean\u001b[0m\u001b[1;33m(\u001b[0m\u001b[0mbatch_loss\u001b[0m\u001b[1;33m)\u001b[0m\u001b[1;33m)\u001b[0m\u001b[1;33m\u001b[0m\u001b[1;33m\u001b[0m\u001b[0m\n",
      "\u001b[1;32m~\\Anaconda3\\envs\\gpu\\lib\\site-packages\\torch\\_tensor.py\u001b[0m in \u001b[0;36mbackward\u001b[1;34m(self, gradient, retain_graph, create_graph, inputs)\u001b[0m\n\u001b[0;32m    305\u001b[0m                 \u001b[0mcreate_graph\u001b[0m\u001b[1;33m=\u001b[0m\u001b[0mcreate_graph\u001b[0m\u001b[1;33m,\u001b[0m\u001b[1;33m\u001b[0m\u001b[1;33m\u001b[0m\u001b[0m\n\u001b[0;32m    306\u001b[0m                 inputs=inputs)\n\u001b[1;32m--> 307\u001b[1;33m         \u001b[0mtorch\u001b[0m\u001b[1;33m.\u001b[0m\u001b[0mautograd\u001b[0m\u001b[1;33m.\u001b[0m\u001b[0mbackward\u001b[0m\u001b[1;33m(\u001b[0m\u001b[0mself\u001b[0m\u001b[1;33m,\u001b[0m \u001b[0mgradient\u001b[0m\u001b[1;33m,\u001b[0m \u001b[0mretain_graph\u001b[0m\u001b[1;33m,\u001b[0m \u001b[0mcreate_graph\u001b[0m\u001b[1;33m,\u001b[0m \u001b[0minputs\u001b[0m\u001b[1;33m=\u001b[0m\u001b[0minputs\u001b[0m\u001b[1;33m)\u001b[0m\u001b[1;33m\u001b[0m\u001b[1;33m\u001b[0m\u001b[0m\n\u001b[0m\u001b[0;32m    308\u001b[0m \u001b[1;33m\u001b[0m\u001b[0m\n\u001b[0;32m    309\u001b[0m     \u001b[1;32mdef\u001b[0m \u001b[0mregister_hook\u001b[0m\u001b[1;33m(\u001b[0m\u001b[0mself\u001b[0m\u001b[1;33m,\u001b[0m \u001b[0mhook\u001b[0m\u001b[1;33m)\u001b[0m\u001b[1;33m:\u001b[0m\u001b[1;33m\u001b[0m\u001b[1;33m\u001b[0m\u001b[0m\n",
      "\u001b[1;32m~\\Anaconda3\\envs\\gpu\\lib\\site-packages\\torch\\autograd\\__init__.py\u001b[0m in \u001b[0;36mbackward\u001b[1;34m(tensors, grad_tensors, retain_graph, create_graph, grad_variables, inputs)\u001b[0m\n\u001b[0;32m    154\u001b[0m     Variable._execution_engine.run_backward(\n\u001b[0;32m    155\u001b[0m         \u001b[0mtensors\u001b[0m\u001b[1;33m,\u001b[0m \u001b[0mgrad_tensors_\u001b[0m\u001b[1;33m,\u001b[0m \u001b[0mretain_graph\u001b[0m\u001b[1;33m,\u001b[0m \u001b[0mcreate_graph\u001b[0m\u001b[1;33m,\u001b[0m \u001b[0minputs\u001b[0m\u001b[1;33m,\u001b[0m\u001b[1;33m\u001b[0m\u001b[1;33m\u001b[0m\u001b[0m\n\u001b[1;32m--> 156\u001b[1;33m         allow_unreachable=True, accumulate_grad=True)  # allow_unreachable flag\n\u001b[0m\u001b[0;32m    157\u001b[0m \u001b[1;33m\u001b[0m\u001b[0m\n\u001b[0;32m    158\u001b[0m \u001b[1;33m\u001b[0m\u001b[0m\n",
      "\u001b[1;31mKeyboardInterrupt\u001b[0m: "
     ]
    }
   ],
   "source": [
    "torch.cuda.empty_cache()\n",
    "\n",
    "NUM_EPOCHS = 20\n",
    "\n",
    "model.to(device)\n",
    "\n",
    "optim = AdamW(model.parameters(), lr=5e-5)\n",
    "\n",
    "if metadata == {}:\n",
    "    START_EPOCH = 0\n",
    "    train_loss = []\n",
    "    val_loss = []\n",
    "else:\n",
    "    START_EPOCH = metadata['epoch'] + 1\n",
    "    train_loss = metadata['train_loss']\n",
    "    val_loss = metadata['valid_loss']\n",
    "\n",
    "\n",
    "for epoch in range(START_EPOCH, START_EPOCH+NUM_EPOCHS):\n",
    "    batch_loss = []\n",
    "    \n",
    "    # Train\n",
    "    model.train()\n",
    "    for batch in tqdm(train_loader):\n",
    "        torch.cuda.empty_cache()\n",
    "\n",
    "        input_ids = torch.tensor(batch['input_ids']).to(device)\n",
    "        attention_mask = torch.tensor(batch['attention_mask']).to(device)\n",
    "        start_positions = torch.tensor(batch['start_positions']).to(device)\n",
    "        end_positions = torch.tensor(batch['end_positions']).to(device)\n",
    "        \n",
    "        # Total span extraction loss is the sum of a Cross-Entropy for the start and end positions.\n",
    "        outputs = model(input_ids, attention_mask=attention_mask, start_positions=start_positions, end_positions=end_positions)\n",
    "        loss = outputs[0]\n",
    "        \n",
    "        batch_loss.append(loss.item())\n",
    "        optim.zero_grad()\n",
    "        loss.backward()\n",
    "        optim.step() \n",
    "    train_loss.append(np.mean(batch_loss))\n",
    "\n",
    "        \n",
    "    # Validation\n",
    "    model.eval()\n",
    "    batch_loss = []\n",
    "    with torch.no_grad():\n",
    "        for batch in tqdm(val_loader):\n",
    "            input_ids = torch.tensor(batch['input_ids']).to(device)\n",
    "            attention_mask = torch.tensor(batch['attention_mask']).to(device)\n",
    "            start_positions = torch.tensor(batch['start_positions']).to(device)\n",
    "            end_positions = torch.tensor(batch['end_positions']).to(device)\n",
    "            outputs = model(input_ids, attention_mask=attention_mask, start_positions=start_positions, end_positions=end_positions)\n",
    "            \n",
    "            loss = outputs[0]\n",
    "            batch_loss.append(loss.item())\n",
    "    val_loss.append(np.mean(batch_loss))\n",
    "    \n",
    "    print(f'Epoch: {epoch}, train_loss: {train_loss[-1]}, val_loss: {val_loss[-1]}')\n",
    "    \n",
    "    model_name = f'models/BERT/r_1_uf_e_{len(val_loss)}_vl_{round(val_loss[-1], 4)}'\n",
    "    metadata = {\n",
    "        'epoch': epoch,\n",
    "        'train_loss': train_loss,\n",
    "        'valid_loss': val_loss\n",
    "    }\n",
    "    \n",
    "    \n",
    "    # Early Stopping\n",
    "    if len(val_loss) > 3:\n",
    "        if val_loss[-1] > val_loss[-2] > val_loss[-3]:\n",
    "            torch.save(model, f'{model_name}.model')\n",
    "            \n",
    "            with open(f'{model_name}_metadata.pickle', 'wb') as f:\n",
    "                pickle.dump(metadata, f)\n",
    "            break\n",
    "            \n",
    "    # Check point\n",
    "#     if len(val_loss) % 4 == 0 or NUM_EPOCHS == epoch+1:\n",
    "    torch.save(model, f'{model_name}.model ')\n",
    "    with open(f'{model_name}_metadata.pickle', 'wb') as f:\n",
    "        pickle.dump(metadata, f)\n",
    "           \n",
    "    "
   ]
  },
  {
   "cell_type": "markdown",
   "id": "a5d838e0",
   "metadata": {},
   "source": [
    "# Metrics\n",
    "https://qa.fastforwardlabs.com/no%20answer/null%20threshold/bert/distilbert/exact%20match/f1/robust%20predictions/2020/06/09/Evaluating_BERT_on_SQuAD.html#F1"
   ]
  },
  {
   "cell_type": "code",
   "execution_count": 8,
   "id": "9d77841c",
   "metadata": {},
   "outputs": [
    {
     "data": {
      "text/plain": [
       "[0.457373235778751,\n",
       " 0.24995374229940387,\n",
       " 0.2010129212766998,\n",
       " 0.17700572156436417,\n",
       " 0.15976982260101963,\n",
       " 0.14476918956254384]"
      ]
     },
     "execution_count": 8,
     "metadata": {},
     "output_type": "execute_result"
    }
   ],
   "source": [
    "train_loss"
   ]
  },
  {
   "cell_type": "code",
   "execution_count": 9,
   "id": "dcd7fed2",
   "metadata": {},
   "outputs": [
    {
     "data": {
      "text/plain": [
       "[0.24338450432068448,\n",
       " 0.22296727784380022,\n",
       " 0.20689662322678837,\n",
       " 0.2011842582111511,\n",
       " 0.21509881146696383,\n",
       " 0.18590992526267097]"
      ]
     },
     "execution_count": 9,
     "metadata": {},
     "output_type": "execute_result"
    }
   ],
   "source": [
    "val_loss"
   ]
  },
  {
   "cell_type": "code",
   "execution_count": 10,
   "id": "d38369b6",
   "metadata": {},
   "outputs": [
    {
     "data": {
      "text/plain": [
       "<AxesSubplot:>"
      ]
     },
     "execution_count": 10,
     "metadata": {},
     "output_type": "execute_result"
    },
    {
     "data": {
      "image/png": "[encoded data removed]",
      "text/plain": [
       "<Figure size 432x288 with 1 Axes>"
      ]
     },
     "metadata": {
      "needs_background": "light"
     },
     "output_type": "display_data"
    }
   ],
   "source": [
    "x = [i for i in range(len(train_loss))]\n",
    "\n",
    "sns.lineplot(x=x, y=train_loss, label='train_loss')\n",
    "sns.lineplot(x=x, y=val_loss, label='val_loss')"
   ]
  },
  {
   "cell_type": "code",
   "execution_count": 3,
   "id": "c13ec408",
   "metadata": {},
   "outputs": [],
   "source": [
    "def compute_exact_match(prediction, truth):\n",
    "    exact_match = 0\n",
    "    for pred, tru in zip(prediction, truth):\n",
    "        if pred == tru:\n",
    "            exact_match += 1\n",
    "    return exact_match / len(prediction)\n",
    "\n",
    "\n",
    "def getOverlap(a, b):\n",
    "    return max(0, min(a[1], b[1]) - max(a[0], b[0]))\n",
    "\n",
    "\n",
    "def compute_tav_fast(start_logits, end_logits):\n",
    "    start_probs, end_probs = (torch.softmax(start_logits, dim=0), torch.softmax(end_logits, dim=0))\n",
    "    n = len(start_logits)\n",
    "    s_null = start_probs[0] + end_probs[0]\n",
    "    s_has = 0\n",
    "    best_span = (0, 0)\n",
    "    high_start_idx = 1\n",
    "  \n",
    "    for i in range(1, n):\n",
    "        if start_probs[i] > start_probs[high_start_idx]:\n",
    "            high_start_idx = i\n",
    "        if start_probs[high_start_idx] + end_probs[i] > s_has:\n",
    "            s_has = start_probs[high_start_idx] + end_probs[i]\n",
    "            best_span = (high_start_idx, i)\n",
    "            \n",
    "    s_diff = s_null - s_has\n",
    "    return s_diff.item(), best_span\n",
    "\n",
    "def compute_f1(prediction, truth, input_id_list):\n",
    "    \n",
    "    f1_scores = []\n",
    "    \n",
    "    for i, (pred, gold) in enumerate(zip(prediction, truth)):\n",
    "        \n",
    "        if pred == gold:\n",
    "            f1_scores.append(1)\n",
    "            \n",
    "        else:\n",
    "            pred_tokens = input_id_list[i-1][pred[0]: pred[1]+1]\n",
    "            gold_tokens = input_id_list[i-1][gold[0]: gold[1]+1]\n",
    "\n",
    "            total_overlap = len(set(pred_tokens).intersection(set(gold_tokens)))\n",
    "            total_tru = len(gold_tokens)\n",
    "            total_pred = len(pred_tokens)\n",
    "\n",
    "            if len(pred_tokens) == 0 or len(gold_tokens) == 0:\n",
    "                f1_scores.append(int(pred_tokens == gold_tokens))\n",
    "            elif total_overlap == 0:\n",
    "                f1_scores.append(0)\n",
    "            else:\n",
    "                prec = total_overlap / total_pred\n",
    "                rec = total_overlap / total_tru\n",
    "                f1_scores.append(2 * (prec * rec) / (prec + rec))\n",
    "    \n",
    "    return np.mean(f1_scores)"
   ]
  },
  {
   "cell_type": "code",
   "execution_count": 4,
   "id": "0d9498bb",
   "metadata": {},
   "outputs": [],
   "source": [
    "def generate_predictions(model, data_loader, split):\n",
    "    truths = []\n",
    "    \n",
    "    # Greedy\n",
    "    spans_greedy = []\n",
    "    \n",
    "    # TAV\n",
    "    s_diffs = []\n",
    "    spans_tav = []\n",
    "    \n",
    "    input_id_list = []\n",
    "    \n",
    "    model.eval()\n",
    "    for batch in tqdm(data_loader):\n",
    "        \n",
    "        # we don't need to calculate gradients as we're not training\n",
    "        with torch.no_grad():\n",
    "            # Truth Span\n",
    "            for i, j, k in zip(batch['start_positions'], batch['end_positions'], batch['input_ids']):\n",
    "                truths.append((i.item(), j.item()))\n",
    "                input_id_list.append(k.tolist())\n",
    "        \n",
    "            \n",
    "            # Predictions\n",
    "            input_ids = batch['input_ids'].to(device)\n",
    "            attention_mask = batch['attention_mask'].to(device)\n",
    "            outputs = model(input_ids, attention_mask=attention_mask)\n",
    "            \n",
    "            # Greedy\n",
    "            for i, j in zip(torch.argmax(outputs['start_logits'], dim=1), torch.argmax(outputs['end_logits'], dim=1)):\n",
    "                spans_greedy.append((i.item(), j.item()))\n",
    "            \n",
    "            # TAV\n",
    "            for i, j in zip(outputs['start_logits'], outputs['end_logits']):\n",
    "                s_diff, span = compute_tav_fast(i, j)\n",
    "                s_diffs.append(s_diff)\n",
    "                spans_tav.append(span)\n",
    "    \n",
    "    predictions_metadata = {\n",
    "        'truth': truths,\n",
    "        'spans_greedy': spans_greedy,\n",
    "        's_diffs': s_diffs,\n",
    "        'spans_tav': spans_tav,\n",
    "        'input_id_list': input_id_list\n",
    "    }\n",
    "    with open(f'predictions/BERT/relations_{split}.pickle', 'wb') as f:\n",
    "        pickle.dump(predictions_metadata, f)\n",
    "            \n",
    "    return predictions_metadata\n",
    "\n",
    "\n",
    "def evaluate_predictions(predictions_metadata, tav=False, threshold=-0.98, print_info=False):\n",
    "    if not tav:\n",
    "        spans_pred = predictions_metadata['spans_greedy']\n",
    "    else:\n",
    "        spans_pred = []\n",
    "        for s_diff, span_tav in zip(predictions_metadata['s_diffs'], predictions_metadata['spans_tav']):\n",
    "            if s_diff < threshold:\n",
    "                spans_pred.append(span_tav)\n",
    "            else:\n",
    "                spans_pred.append((0, 0))\n",
    "                \n",
    "    em = compute_exact_match(spans_pred, predictions_metadata['truth'])\n",
    "    f1 = compute_f1(spans_pred,  predictions_metadata['truth'], predictions_metadata['input_id_list'])\n",
    "    \n",
    "    if print_info:\n",
    "        print(f'EM: {round(em*100, 1)}, F1: {round(f1*100, 1)}')\n",
    "        \n",
    "    return em, f1"
   ]
  },
  {
   "cell_type": "code",
   "execution_count": 5,
   "id": "bc548b28",
   "metadata": {},
   "outputs": [],
   "source": [
    "TEST_BATCH_SIZE = 128\n",
    "# test_dataset = ermQA('relations_qa_test')\n",
    "# test_loader = DataLoader(test_dataset, batch_size=TEST_BATCH_SIZE, shuffle=False)\n",
    "\n",
    "\n",
    "train_dataset = ermQA('relations_qa_train')\n",
    "train_loader = DataLoader(train_dataset, batch_size=TEST_BATCH_SIZE, shuffle=False)\n",
    "\n",
    "model = torch.load('models/BERT/r_1_uf_e_7_vl_0.1851.model')\n",
    "# model = DistilBertForQuestionAnswering.from_pretrained('distilbert-base-uncased')\n",
    "# model.to(device)"
   ]
  },
  {
   "cell_type": "code",
   "execution_count": 12,
   "id": "6c8bad60",
   "metadata": {},
   "outputs": [],
   "source": [
    "# test_predictions_metadata = generate_predictions(model, test_loader, 'test')\n",
    "with open('predictions/BERT/relations_test.pickle', 'rb') as f:\n",
    "    test_predictions_metadata = pickle.load(f)"
   ]
  },
  {
   "cell_type": "code",
   "execution_count": 13,
   "id": "0471bb5b",
   "metadata": {},
   "outputs": [
    {
     "name": "stdout",
     "output_type": "stream",
     "text": [
      "EM: 94.0, F1: 94.6\n"
     ]
    }
   ],
   "source": [
    "em, f1 = evaluate_predictions(test_predictions_metadata, tav=False, print_info=True)"
   ]
  },
  {
   "cell_type": "code",
   "execution_count": 14,
   "id": "11fdc2d6",
   "metadata": {},
   "outputs": [
    {
     "name": "stdout",
     "output_type": "stream",
     "text": [
      "EM: 94.4, F1: 95.0\n"
     ]
    }
   ],
   "source": [
    "em, f1 = evaluate_predictions(test_predictions_metadata, tav=True, threshold=-0.65, print_info=True)"
   ]
  },
  {
   "cell_type": "code",
   "execution_count": 6,
   "id": "518f1e7c",
   "metadata": {},
   "outputs": [
    {
     "name": "stderr",
     "output_type": "stream",
     "text": [
      "  0%|          | 0/625 [00:00<?, ?it/s]C:\\Users\\lcwon\\Anaconda3\\envs\\gpu\\lib\\site-packages\\ipykernel_launcher.py:7: UserWarning: To copy construct from a tensor, it is recommended to use sourceTensor.clone().detach() or sourceTensor.clone().detach().requires_grad_(True), rather than torch.tensor(sourceTensor).\n",
      "  import sys\n",
      "100%|██████████| 625/625 [3:23:15<00:00, 19.51s/it]  \n"
     ]
    }
   ],
   "source": [
    "train_predictions_metadata = generate_predictions(model, train_loader, 'train')"
   ]
  },
  {
   "cell_type": "code",
   "execution_count": 7,
   "id": "57ef75a5",
   "metadata": {},
   "outputs": [
    {
     "name": "stdout",
     "output_type": "stream",
     "text": [
      "EM: 96.7, F1: 97.0\n"
     ]
    }
   ],
   "source": [
    "em, f1 = evaluate_predictions(train_predictions_metadata, tav=False, print_info=True)"
   ]
  },
  {
   "cell_type": "code",
   "execution_count": 9,
   "id": "6f65ad8d",
   "metadata": {},
   "outputs": [],
   "source": [
    "em_list = []\n",
    "thresholds = []\n",
    "for threshold in np.arange(-1, 1, .01):\n",
    "    em, f1 = evaluate_predictions(train_predictions_metadata, tav=True, threshold=threshold, print_info=False)\n",
    "    em_list.append(em)\n",
    "    thresholds.append(threshold)"
   ]
  },
  {
   "cell_type": "code",
   "execution_count": 10,
   "id": "b9dd3b45",
   "metadata": {},
   "outputs": [
    {
     "name": "stdout",
     "output_type": "stream",
     "text": [
      "-0.6499999999999997\n",
      "EM: 97.1, F1: 97.4\n"
     ]
    },
    {
     "data": {
      "text/plain": [
       "(0.9705256570713392, 0.973755247790336)"
      ]
     },
     "execution_count": 10,
     "metadata": {},
     "output_type": "execute_result"
    },
    {
     "data": {
      "image/png": "[encoded data removed]",
      "text/plain": [
       "<Figure size 432x288 with 1 Axes>"
      ]
     },
     "metadata": {
      "needs_background": "light"
     },
     "output_type": "display_data"
    }
   ],
   "source": [
    "sns.lineplot(x=thresholds, y=em_list)\n",
    "max_index = em_list.index(max(em_list))\n",
    "threshold = thresholds[max_index]\n",
    "print(threshold)\n",
    "evaluate_predictions(train_predictions_metadata, tav=True, threshold=threshold, print_info=True)"
   ]
  },
  {
   "cell_type": "code",
   "execution_count": null,
   "id": "73e652f2",
   "metadata": {},
   "outputs": [],
   "source": []
  }
 ],
 "metadata": {
  "kernelspec": {
   "display_name": "Python 3 (ipykernel)",
   "language": "python",
   "name": "python3"
  },
  "language_info": {
   "codemirror_mode": {
    "name": "ipython",
    "version": 3
   },
   "file_extension": ".py",
   "mimetype": "text/x-python",
   "name": "python",
   "nbconvert_exporter": "python",
   "pygments_lexer": "ipython3",
   "version": "3.7.11"
  }
 },
 "nbformat": 4,
 "nbformat_minor": 5
}
