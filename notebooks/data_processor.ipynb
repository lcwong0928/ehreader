{
 "cells": [
  {
   "cell_type": "code",
   "execution_count": 1,
   "id": "f25e29ff",
   "metadata": {},
   "outputs": [],
   "source": [
    "import pandas as pd\n",
    "import json\n",
    "import numpy as np\n",
    "import random\n",
    "from nltk.tokenize import WhitespaceTokenizer\n",
    "from tqdm import tqdm\n",
    "random.seed()"
   ]
  },
  {
   "cell_type": "code",
   "execution_count": 2,
   "id": "e2dea21e",
   "metadata": {},
   "outputs": [],
   "source": [
    "def generate_dataset(data: dict):\n",
    "    samples = []\n",
    "    note_question_id = 0\n",
    "    error_counter = 0\n",
    "    for paragraph in tqdm(data['paragraphs']):\n",
    "        context = paragraph['context']\n",
    "        note_id = paragraph['note_id']\n",
    "        qas = paragraph['qas']\n",
    "        for qa in qas:\n",
    "            for answer, _, question in zip(qa['answers'], qa['id'], qa['question']):\n",
    "                if answer['answer_entity_type'] in {'single', 'empty'}:\n",
    "                    evidence_start = answer['evidence_start'] - 2\n",
    "                    evidence = answer['evidence']\n",
    "                    sample = generate_sample(note_id, note_question_id, context, question.split(), evidence_start, evidence.split())\n",
    "                    if sample == []:\n",
    "                        error_counter += 1\n",
    "                    else:\n",
    "                        samples.extend(sample)\n",
    "                \n",
    "                elif answer['answer_entity_type'] == 'complex':\n",
    "                    # TODO: Figure this out\n",
    "                    pass\n",
    "\n",
    "                # Additional Check\n",
    "                else:\n",
    "                    print(f'Unknown Operation for id: {id}')\n",
    "                note_question_id += 1 \n",
    "    samples = pd.DataFrame(samples, columns=['note_id', 'note_question_id', 'sub_context', \n",
    "                                             'question', 'answerability', \n",
    "                                             'token_start', 'token_end', \n",
    "                                             'char_start', 'char_end'\n",
    "                                            ])\n",
    "    print('error counter:', error_counter)\n",
    "    return samples\n",
    "\n",
    "def generate_sample(note_id: int, note_question_id: int, context: list, question: list, evidence_start: int, evidence: list):\n",
    "    \n",
    "    samples = []\n",
    "\n",
    "    token_counts = []\n",
    "    prev_i = 0\n",
    "    \n",
    "    sub_context = []\n",
    "    for i, line in enumerate(context):\n",
    "        \n",
    "        line_tokens = line.split()\n",
    "        \n",
    "        if len(sub_context) > 200 or i+1 == len(context):\n",
    "            # Positive Example\n",
    "            if prev_i <= evidence_start < i-1:\n",
    "                answerability = 1\n",
    "                \n",
    "                # Token Position\n",
    "                token_cumsum = np.cumsum(token_counts)\n",
    "                evidence_token_start = token_cumsum[evidence_start-prev_i]\n",
    "                evidence_token_end = evidence_token_start + len(evidence)\n",
    "                token_match_cond = sub_context[evidence_token_start: evidence_token_end] == evidence\n",
    "                \n",
    "                # Charactor Position\n",
    "                sub_context_str = ' '.join(sub_context)\n",
    "                evidence_char_start = len(' '.join(sub_context[:evidence_token_start])) + 1\n",
    "                evidence_char_end = evidence_char_start + len(' '.join(evidence))\n",
    "                char_match_cond = sub_context_str[evidence_char_start: evidence_char_end] == ' '.join(evidence)\n",
    "                \n",
    "                # Checking Condition\n",
    "                if token_match_cond and char_match_cond:\n",
    "                    positive_sample = [note_id, note_question_id, sub_context, question, answerability, \n",
    "                                       evidence_token_start, evidence_token_end,\n",
    "                                       evidence_char_start, evidence_char_end]\n",
    "                    samples.append(positive_sample)\n",
    "                    \n",
    "                else:\n",
    "                    # Two line evidence on the border.\n",
    "#                     print(\"Error\")\n",
    "#                     print(sub_context)\n",
    "#                     print(len(sub_context))\n",
    "#                     print(evidence_token_start, evidence_token_end)\n",
    "#                     print(sub_context[evidence_token_start: evidence_token_end], evidence)\n",
    "                    return []\n",
    "                    \n",
    "            # Negative Example\n",
    "            else:\n",
    "                answerability = 0\n",
    "                evidence_token_start = 0\n",
    "                evidence_token_end = 0\n",
    "                evidence_char_start = 0\n",
    "                evidence_char_end = 0\n",
    "                \n",
    "                negative_sample = [note_id, note_question_id, sub_context, question, answerability,\n",
    "                                    evidence_token_start, evidence_token_end,\n",
    "                                    evidence_char_start, evidence_char_end]\n",
    "                samples.append(negative_sample)\n",
    "            \n",
    "            sub_context = line_tokens\n",
    "            token_counts = [len(line_tokens)]\n",
    "            prev_i = i\n",
    "            \n",
    "        else:\n",
    "            sub_context += line_tokens\n",
    "            token_counts.append(len(line_tokens))\n",
    "       \n",
    "    return samples "
   ]
  },
  {
   "cell_type": "code",
   "execution_count": 13,
   "id": "8314060c",
   "metadata": {},
   "outputs": [
    {
     "name": "stderr",
     "output_type": "stream",
     "text": [
      "100%|██████████| 262/262 [00:16<00:00, 15.80it/s]\n"
     ]
    },
    {
     "name": "stdout",
     "output_type": "stream",
     "text": [
      "error counter: 169\n"
     ]
    }
   ],
   "source": [
    "with open('n2c2-community-annotations_2014-pampari-question-answering/dataset/medication-qa.json') as f:\n",
    "    data = json.load(f)\n",
    "\n",
    "samples = generate_dataset(data)"
   ]
  },
  {
   "cell_type": "code",
   "execution_count": 14,
   "id": "092a85d4",
   "metadata": {},
   "outputs": [
    {
     "data": {
      "text/html": [
       "<div>\n",
       "<style scoped>\n",
       "    .dataframe tbody tr th:only-of-type {\n",
       "        vertical-align: middle;\n",
       "    }\n",
       "\n",
       "    .dataframe tbody tr th {\n",
       "        vertical-align: top;\n",
       "    }\n",
       "\n",
       "    .dataframe thead th {\n",
       "        text-align: right;\n",
       "    }\n",
       "</style>\n",
       "<table border=\"1\" class=\"dataframe\">\n",
       "  <thead>\n",
       "    <tr style=\"text-align: right;\">\n",
       "      <th></th>\n",
       "      <th>note_id</th>\n",
       "      <th>note_question_id</th>\n",
       "      <th>sub_context</th>\n",
       "      <th>question</th>\n",
       "      <th>answerability</th>\n",
       "      <th>token_start</th>\n",
       "      <th>token_end</th>\n",
       "      <th>char_start</th>\n",
       "      <th>char_end</th>\n",
       "    </tr>\n",
       "  </thead>\n",
       "  <tbody>\n",
       "    <tr>\n",
       "      <th>0</th>\n",
       "      <td>91996</td>\n",
       "      <td>0</td>\n",
       "      <td>[RECORD, #91996, 150823816, |, DMC, |, 6095698...</td>\n",
       "      <td>[Was, the, patient, ever, prescribed, aspirin]</td>\n",
       "      <td>1</td>\n",
       "      <td>94</td>\n",
       "      <td>106</td>\n",
       "      <td>548</td>\n",
       "      <td>613</td>\n",
       "    </tr>\n",
       "    <tr>\n",
       "      <th>1</th>\n",
       "      <td>91996</td>\n",
       "      <td>0</td>\n",
       "      <td>[documented, recent, seizures;, history, of, a...</td>\n",
       "      <td>[Was, the, patient, ever, prescribed, aspirin]</td>\n",
       "      <td>0</td>\n",
       "      <td>0</td>\n",
       "      <td>0</td>\n",
       "      <td>0</td>\n",
       "      <td>0</td>\n",
       "    </tr>\n",
       "    <tr>\n",
       "      <th>2</th>\n",
       "      <td>91996</td>\n",
       "      <td>0</td>\n",
       "      <td>[of, chronic, headaches, for, which, she, was,...</td>\n",
       "      <td>[Was, the, patient, ever, prescribed, aspirin]</td>\n",
       "      <td>0</td>\n",
       "      <td>0</td>\n",
       "      <td>0</td>\n",
       "      <td>0</td>\n",
       "      <td>0</td>\n",
       "    </tr>\n",
       "    <tr>\n",
       "      <th>3</th>\n",
       "      <td>91996</td>\n",
       "      <td>0</td>\n",
       "      <td>[and, repeat, PET, labs., As, well, ,, she, ha...</td>\n",
       "      <td>[Was, the, patient, ever, prescribed, aspirin]</td>\n",
       "      <td>0</td>\n",
       "      <td>0</td>\n",
       "      <td>0</td>\n",
       "      <td>0</td>\n",
       "      <td>0</td>\n",
       "    </tr>\n",
       "    <tr>\n",
       "      <th>4</th>\n",
       "      <td>91996</td>\n",
       "      <td>0</td>\n",
       "      <td>[feeling, that, these, were, not, true, seizur...</td>\n",
       "      <td>[Was, the, patient, ever, prescribed, aspirin]</td>\n",
       "      <td>0</td>\n",
       "      <td>0</td>\n",
       "      <td>0</td>\n",
       "      <td>0</td>\n",
       "      <td>0</td>\n",
       "    </tr>\n",
       "  </tbody>\n",
       "</table>\n",
       "</div>"
      ],
      "text/plain": [
       "  note_id  note_question_id  \\\n",
       "0   91996                 0   \n",
       "1   91996                 0   \n",
       "2   91996                 0   \n",
       "3   91996                 0   \n",
       "4   91996                 0   \n",
       "\n",
       "                                         sub_context  \\\n",
       "0  [RECORD, #91996, 150823816, |, DMC, |, 6095698...   \n",
       "1  [documented, recent, seizures;, history, of, a...   \n",
       "2  [of, chronic, headaches, for, which, she, was,...   \n",
       "3  [and, repeat, PET, labs., As, well, ,, she, ha...   \n",
       "4  [feeling, that, these, were, not, true, seizur...   \n",
       "\n",
       "                                         question  answerability  token_start  \\\n",
       "0  [Was, the, patient, ever, prescribed, aspirin]              1           94   \n",
       "1  [Was, the, patient, ever, prescribed, aspirin]              0            0   \n",
       "2  [Was, the, patient, ever, prescribed, aspirin]              0            0   \n",
       "3  [Was, the, patient, ever, prescribed, aspirin]              0            0   \n",
       "4  [Was, the, patient, ever, prescribed, aspirin]              0            0   \n",
       "\n",
       "   token_end  char_start  char_end  \n",
       "0        106         548       613  \n",
       "1          0           0         0  \n",
       "2          0           0         0  \n",
       "3          0           0         0  \n",
       "4          0           0         0  "
      ]
     },
     "execution_count": 14,
     "metadata": {},
     "output_type": "execute_result"
    }
   ],
   "source": [
    "samples.head()"
   ]
  },
  {
   "cell_type": "code",
   "execution_count": 15,
   "id": "50d30110",
   "metadata": {},
   "outputs": [
    {
     "data": {
      "text/plain": [
       "0    191200\n",
       "1     30240\n",
       "Name: answerability, dtype: int64"
      ]
     },
     "execution_count": 15,
     "metadata": {},
     "output_type": "execute_result"
    }
   ],
   "source": [
    "samples.answerability.value_counts()"
   ]
  },
  {
   "cell_type": "code",
   "execution_count": 16,
   "id": "a7493ea5",
   "metadata": {},
   "outputs": [],
   "source": [
    "positive_samples = samples[samples.answerability==1]"
   ]
  },
  {
   "cell_type": "code",
   "execution_count": 17,
   "id": "87688dc6",
   "metadata": {},
   "outputs": [
    {
     "data": {
      "text/plain": [
       "<AxesSubplot:>"
      ]
     },
     "execution_count": 17,
     "metadata": {},
     "output_type": "execute_result"
    },
    {
     "data": {
      "image/png": "[encoded data removed]",
      "text/plain": [
       "<Figure size 432x288 with 1 Axes>"
      ]
     },
     "metadata": {
      "needs_background": "light"
     },
     "output_type": "display_data"
    }
   ],
   "source": [
    "positive_samples.token_start.hist()"
   ]
  },
  {
   "cell_type": "code",
   "execution_count": 18,
   "id": "991fadfe",
   "metadata": {},
   "outputs": [
    {
     "data": {
      "text/plain": [
       "<AxesSubplot:>"
      ]
     },
     "execution_count": 18,
     "metadata": {},
     "output_type": "execute_result"
    },
    {
     "data": {
      "image/png": "[encoded data removed]",
      "text/plain": [
       "<Figure size 432x288 with 1 Axes>"
      ]
     },
     "metadata": {
      "needs_background": "light"
     },
     "output_type": "display_data"
    }
   ],
   "source": [
    "positive_samples.token_end.hist()"
   ]
  },
  {
   "cell_type": "code",
   "execution_count": 19,
   "id": "f4714dc8",
   "metadata": {},
   "outputs": [],
   "source": [
    "samples.to_parquet('processed_data/medication_qa.parquet')"
   ]
  },
  {
   "cell_type": "code",
   "execution_count": 3,
   "id": "d63271c5",
   "metadata": {},
   "outputs": [
    {
     "name": "stderr",
     "output_type": "stream",
     "text": [
      "100%|██████████| 426/426 [00:15<00:00, 28.18it/s]\n"
     ]
    },
    {
     "name": "stdout",
     "output_type": "stream",
     "text": [
      "error counter: 0\n"
     ]
    }
   ],
   "source": [
    "with open('n2c2-community-annotations_2014-pampari-question-answering/dataset/relations-qa.json') as f:\n",
    "    data = json.load(f)\n",
    "\n",
    "samples = generate_dataset(data)"
   ]
  },
  {
   "cell_type": "code",
   "execution_count": 4,
   "id": "ae7eca1a",
   "metadata": {},
   "outputs": [],
   "source": [
    "samples.to_parquet('processed_data/relations_qa.parquet')"
   ]
  },
  {
   "cell_type": "code",
   "execution_count": null,
   "id": "842304cb",
   "metadata": {},
   "outputs": [],
   "source": []
  }
 ],
 "metadata": {
  "kernelspec": {
   "display_name": "Python 3 (ipykernel)",
   "language": "python",
   "name": "python3"
  },
  "language_info": {
   "codemirror_mode": {
    "name": "ipython",
    "version": 3
   },
   "file_extension": ".py",
   "mimetype": "text/x-python",
   "name": "python",
   "nbconvert_exporter": "python",
   "pygments_lexer": "ipython3",
   "version": "3.7.11"
  }
 },
 "nbformat": 4,
 "nbformat_minor": 5
}
